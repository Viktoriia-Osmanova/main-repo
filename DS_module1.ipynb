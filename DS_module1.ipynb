{
  "nbformat": 4,
  "nbformat_minor": 0,
  "metadata": {
    "colab": {
      "provenance": [],
      "toc_visible": true,
      "authorship_tag": "ABX9TyPnHzkWHdWjwlE/BcIlEBd8",
      "include_colab_link": true
    },
    "kernelspec": {
      "name": "python3",
      "display_name": "Python 3"
    },
    "language_info": {
      "name": "python"
    }
  },
  "cells": [
    {
      "cell_type": "markdown",
      "metadata": {
        "id": "view-in-github",
        "colab_type": "text"
      },
      "source": [
        "<a href=\"https://colab.research.google.com/github/Viktoriia-Osmanova/main-repo/blob/main/DS_module1.ipynb\" target=\"_parent\"><img src=\"https://colab.research.google.com/assets/colab-badge.svg\" alt=\"Open In Colab\"/></a>"
      ]
    },
    {
      "cell_type": "code",
      "execution_count": null,
      "metadata": {
        "id": "cpBQLqpgbBad"
      },
      "outputs": [],
      "source": [
        "import numpy as np\n"
      ]
    },
    {
      "cell_type": "code",
      "source": [
        "a = [3, 5, 6, 4]\n",
        "b = [2, 5, 7, 7]"
      ],
      "metadata": {
        "id": "QliJwQnSbcWn"
      },
      "execution_count": null,
      "outputs": []
    },
    {
      "cell_type": "code",
      "source": [
        "a = np.array(a)\n",
        "b = np.array(b)"
      ],
      "metadata": {
        "id": "_Bgo7-J2bvKd"
      },
      "execution_count": null,
      "outputs": []
    },
    {
      "cell_type": "code",
      "source": [
        "a+b"
      ],
      "metadata": {
        "colab": {
          "base_uri": "https://localhost:8080/"
        },
        "id": "t-Qn-1xRdJT_",
        "outputId": "d82ccf8e-4e03-4240-f8a2-6353af51ddb6"
      },
      "execution_count": null,
      "outputs": [
        {
          "output_type": "execute_result",
          "data": {
            "text/plain": [
              "array([ 5, 10, 13, 11])"
            ]
          },
          "metadata": {},
          "execution_count": 5
        }
      ]
    },
    {
      "cell_type": "markdown",
      "source": [
        "##добуток\n"
      ],
      "metadata": {
        "id": "CEK9JW4nd0vJ"
      }
    },
    {
      "cell_type": "code",
      "source": [
        "a*b"
      ],
      "metadata": {
        "colab": {
          "base_uri": "https://localhost:8080/"
        },
        "id": "P2JrsNwOd5U7",
        "outputId": "8d2b0910-6196-47b5-94ae-092cfd8f5901"
      },
      "execution_count": null,
      "outputs": [
        {
          "output_type": "execute_result",
          "data": {
            "text/plain": [
              "array([ 6, 25, 42, 28])"
            ]
          },
          "metadata": {},
          "execution_count": 6
        }
      ]
    },
    {
      "cell_type": "markdown",
      "source": [
        "##скалярний добуток"
      ],
      "metadata": {
        "id": "IjQuOIexd-BL"
      }
    },
    {
      "cell_type": "code",
      "source": [
        "np.dot(a,b)"
      ],
      "metadata": {
        "colab": {
          "base_uri": "https://localhost:8080/"
        },
        "id": "0o9-rvlDeCFQ",
        "outputId": "40824381-be01-4509-bd8b-7c1d8bcf2853"
      },
      "execution_count": null,
      "outputs": [
        {
          "output_type": "execute_result",
          "data": {
            "text/plain": [
              "101"
            ]
          },
          "metadata": {},
          "execution_count": 7
        }
      ]
    },
    {
      "cell_type": "markdown",
      "source": [
        "##матриці"
      ],
      "metadata": {
        "id": "XNC_L25cfzB6"
      }
    },
    {
      "cell_type": "code",
      "source": [
        "matrix = np.array([[2,4,6,7,6],\n",
        "                  [2,4,6,7,6],\n",
        "                  [2,4,6,7,6],\n",
        "                  [2,4,6,7,6]])\n",
        "\n",
        "print(matrix)"
      ],
      "metadata": {
        "colab": {
          "base_uri": "https://localhost:8080/"
        },
        "id": "A36bATYwhVqu",
        "outputId": "be7cb4d3-8934-4af6-dd03-8eea07e1accf"
      },
      "execution_count": null,
      "outputs": [
        {
          "output_type": "stream",
          "name": "stdout",
          "text": [
            "[[2 4 6 7 6]\n",
            " [2 4 6 7 6]\n",
            " [2 4 6 7 6]\n",
            " [2 4 6 7 6]]\n"
          ]
        }
      ]
    },
    {
      "cell_type": "markdown",
      "source": [
        "##множення 2х матриць - рядки першої матриці множаться на стовпчики 2ї"
      ],
      "metadata": {
        "id": "e0jNWjW5u_dO"
      }
    },
    {
      "cell_type": "markdown",
      "source": [],
      "metadata": {
        "id": "-8Gs7A0HfyJH"
      }
    },
    {
      "cell_type": "code",
      "source": [],
      "metadata": {
        "id": "1Mj4kODOvE8W"
      },
      "execution_count": null,
      "outputs": []
    }
  ]
}