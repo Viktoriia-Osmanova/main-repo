{
  "cells": [
    {
      "cell_type": "markdown",
      "metadata": {
        "id": "view-in-github",
        "colab_type": "text"
      },
      "source": [
        "<a href=\"https://colab.research.google.com/github/Viktoriia-Osmanova/main-repo/blob/main/Python_DS_HW2_2.ipynb\" target=\"_parent\"><img src=\"https://colab.research.google.com/assets/colab-badge.svg\" alt=\"Open In Colab\"/></a>"
      ]
    },
    {
      "cell_type": "code",
      "source": [
        "from google.colab import drive\n",
        "drive.mount(\"/content/drive\", force_remount=True)\n",
        "\n",
        "import pandas as pd\n",
        "\n",
        "# Використання відносного шляху до файлу\n",
        "file_path = '/content/drive/My Drive/Colab Notebooks/2017_jun_final.csv'\n",
        "\n",
        "\n"
      ],
      "metadata": {
        "id": "sFJvvJVOl2wQ",
        "outputId": "d901ce6b-ebcf-47f5-8415-8197097cd0c9",
        "colab": {
          "base_uri": "https://localhost:8080/"
        }
      },
      "execution_count": 2,
      "outputs": [
        {
          "output_type": "stream",
          "name": "stdout",
          "text": [
            "Mounted at /content/drive\n"
          ]
        }
      ]
    },
    {
      "cell_type": "code",
      "source": [
        "import pandas as pd\n",
        "\n",
        "# Прочитайте файл 2017_jun_final.csv за допомогою методу read_csv\n",
        "data = pd.read_csv(file_path, encoding='UTF-8', sep=';')"
      ],
      "metadata": {
        "id": "bE-cHQvDo7ne"
      },
      "execution_count": 3,
      "outputs": []
    },
    {
      "cell_type": "code",
      "source": [
        "# Виведіть перші рядки таблиці за допомогою методу head\n",
        "print(\"Перші рядки таблиці:\")\n",
        "print(data.head())"
      ],
      "metadata": {
        "id": "egSaK4HUo-sE",
        "outputId": "cac977d4-ecc5-44bf-9072-50d1c94fad23",
        "colab": {
          "base_uri": "https://localhost:8080/"
        }
      },
      "execution_count": 4,
      "outputs": [
        {
          "output_type": "stream",
          "name": "stdout",
          "text": [
            "Перші рядки таблиці:\n",
            "     N                    Посада Мова програмування Спеціалізація  \\\n",
            "0  1.0        Junior QA engineer                NaN     Manual QA   \n",
            "1  2.0        Junior QA engineer                NaN     Manual QA   \n",
            "2  3.0         Software Engineer            C#/.NET           NaN   \n",
            "3  4.0         Software Engineer         JavaScript           NaN   \n",
            "4  5.0  Senior Software Engineer         JavaScript           NaN   \n",
            "\n",
            "  Загальний досвід роботи Досвід роботи на поточному місці  \\\n",
            "0                     0,5                              0,5   \n",
            "1         менше 3 місяців                  менше 3 місяців   \n",
            "2                       4                                1   \n",
            "3                       5                                4   \n",
            "4       10 і більше років                              0,5   \n",
            "\n",
            "   Зарплата на місяць  Зміна зарплати за 12 місяців   Місто   Розмір компанії  \\\n",
            "0               400.0                           0.0  Харків        до 10 осіб   \n",
            "1               430.0                         130.0  Харків  більше 1000 осіб   \n",
            "2              2500.0                         800.0    Київ      до 1000 осіб   \n",
            "3              2000.0                         400.0   Одеса       до 200 осіб   \n",
            "4              4500.0                         500.0    Інше        до 10 осіб   \n",
            "\n",
            "   ...                  Предметна область      Дата заповнення  \\\n",
            "0  ...                      iOS,eCommerce  12/06/2017 12:38:08   \n",
            "1  ...                       Веб-розробка  12/06/2017 12:42:51   \n",
            "2  ...  Веб-розробка,Корпоративні системи  12/06/2017 13:02:47   \n",
            "3  ...  Desktop Applications,Веб-розробка  12/06/2017 13:03:01   \n",
            "4  ...  Desktop Applications,Веб-розробка  12/06/2017 13:03:47   \n",
            "\n",
            "                                          User.Agent  exp current_job_exp  \\\n",
            "0  Mozilla/5.0 (Windows NT 10.0; Win64; x64) Appl...  0,5             0,5   \n",
            "1  Mozilla/5.0 (iPad; CPU OS 10_2_1 like Mac OS X...    0               0   \n",
            "2  Mozilla/5.0 (Windows NT 10.0; Win64; x64) Appl...    4               1   \n",
            "3  Mozilla/5.0 (Windows NT 6.1; Win64; x64) Apple...    5               4   \n",
            "4  Mozilla/5.0 (iPhone; CPU iPhone OS 10_3_2 like...   10             0,5   \n",
            "\n",
            "   salary Валюта  cls Unnamed: 25 Unnamed: 26  \n",
            "0   400.0    NaN   QA         NaN         NaN  \n",
            "1   430.0    NaN   QA         NaN         NaN  \n",
            "2  2500.0    NaN  DEV         NaN         NaN  \n",
            "3  2000.0    NaN  DEV         NaN         NaN  \n",
            "4  4500.0    NaN  DEV         NaN         NaN  \n",
            "\n",
            "[5 rows x 27 columns]\n"
          ]
        }
      ]
    },
    {
      "cell_type": "code",
      "source": [
        "# Визначте розмір таблиці за допомогою методу shape\n",
        "print(\"\\nРозмір таблиці:\", data.shape)"
      ],
      "metadata": {
        "id": "oMYVBONtpARs",
        "outputId": "9b79ef33-4094-4df9-a612-6e9c738994f3",
        "colab": {
          "base_uri": "https://localhost:8080/"
        }
      },
      "execution_count": 5,
      "outputs": [
        {
          "output_type": "stream",
          "name": "stdout",
          "text": [
            "\n",
            "Розмір таблиці: (8706, 27)\n"
          ]
        }
      ]
    },
    {
      "cell_type": "code",
      "source": [
        "# Визначте типи всіх стовпців за допомогою dataframe.dtypes\n",
        "print(\"\\nТипи всіх стовпців:\")\n",
        "print(data.dtypes)"
      ],
      "metadata": {
        "id": "QKcnMEgHpBtS",
        "outputId": "2b6cfffb-bb1b-45f7-a9d8-dabfc4b9d27b",
        "colab": {
          "base_uri": "https://localhost:8080/"
        }
      },
      "execution_count": 6,
      "outputs": [
        {
          "output_type": "stream",
          "name": "stdout",
          "text": [
            "\n",
            "Типи всіх стовпців:\n",
            "N                                   float64\n",
            "Посада                               object\n",
            "Мова програмування                   object\n",
            "Спеціалізація                        object\n",
            "Загальний досвід роботи              object\n",
            "Досвід роботи на поточному місці     object\n",
            "Зарплата на місяць                  float64\n",
            "Зміна зарплати за 12 місяців        float64\n",
            "Місто                                object\n",
            "Розмір компанії                      object\n",
            "Тип компанії                         object\n",
            "Стать                                object\n",
            "Вік                                 float64\n",
            "Освіта                               object\n",
            "Університет                          object\n",
            "Ще студент                           object\n",
            "Рівень англійської                   object\n",
            "Предметна область                    object\n",
            "Дата заповнення                      object\n",
            "User.Agent                           object\n",
            "exp                                  object\n",
            "current_job_exp                      object\n",
            "salary                              float64\n",
            "Валюта                               object\n",
            "cls                                  object\n",
            "Unnamed: 25                         float64\n",
            "Unnamed: 26                         float64\n",
            "dtype: object\n"
          ]
        }
      ]
    },
    {
      "cell_type": "code",
      "source": [
        "# Порахуйте, яка частка пропусків міститься в кожній колонці\n",
        "missing_values = data.isnull().sum() / len(data)\n",
        "print(\"\\nЧастка пропусків в кожній колонці:\")\n",
        "print(missing_values)"
      ],
      "metadata": {
        "id": "IxEusKLlpEkY",
        "outputId": "ba617338-0ea9-4118-de40-f88772ed5dbd",
        "colab": {
          "base_uri": "https://localhost:8080/"
        }
      },
      "execution_count": 7,
      "outputs": [
        {
          "output_type": "stream",
          "name": "stdout",
          "text": [
            "\n",
            "Частка пропусків в кожній колонці:\n",
            "N                                   0.000230\n",
            "Посада                              0.000230\n",
            "Мова програмування                  0.442453\n",
            "Спеціалізація                       0.829428\n",
            "Загальний досвід роботи             0.000230\n",
            "Досвід роботи на поточному місці    0.000230\n",
            "Зарплата на місяць                  0.000230\n",
            "Зміна зарплати за 12 місяців        0.000230\n",
            "Місто                               0.000230\n",
            "Розмір компанії                     0.000230\n",
            "Тип компанії                        0.000230\n",
            "Стать                               0.000230\n",
            "Вік                                 0.000230\n",
            "Освіта                              0.000230\n",
            "Університет                         0.041351\n",
            "Ще студент                          0.000230\n",
            "Рівень англійської                  0.000230\n",
            "Предметна область                   0.025844\n",
            "Дата заповнення                     0.000230\n",
            "User.Agent                          0.000230\n",
            "exp                                 0.000230\n",
            "current_job_exp                     0.000230\n",
            "salary                              0.000230\n",
            "Валюта                              0.998851\n",
            "cls                                 0.181025\n",
            "Unnamed: 25                         1.000000\n",
            "Unnamed: 26                         1.000000\n",
            "dtype: float64\n"
          ]
        }
      ]
    },
    {
      "cell_type": "code",
      "source": [
        "print(data.columns)\n"
      ],
      "metadata": {
        "id": "YZC_oanBqs90",
        "outputId": "699bf082-fe02-4c5b-e13d-60ec7fe79149",
        "colab": {
          "base_uri": "https://localhost:8080/"
        }
      },
      "execution_count": 8,
      "outputs": [
        {
          "output_type": "stream",
          "name": "stdout",
          "text": [
            "Index(['N', 'Посада', 'Мова програмування', 'Спеціалізація',\n",
            "       'Загальний досвід роботи', 'Досвід роботи на поточному місці',\n",
            "       'Зарплата на місяць', 'Зміна зарплати за 12 місяців', 'Місто',\n",
            "       'Розмір компанії', 'Тип компанії', 'Стать', 'Вік', 'Освіта',\n",
            "       'Університет', 'Ще студент', 'Рівень англійської', 'Предметна область',\n",
            "       'Дата заповнення', 'User.Agent', 'exp', 'current_job_exp', 'salary',\n",
            "       'Валюта', 'cls', 'Unnamed: 25', 'Unnamed: 26'],\n",
            "      dtype='object')\n"
          ]
        }
      ]
    },
    {
      "cell_type": "code",
      "source": [
        "# Видалення усіх стовпців з пропусками, крім стовпця \"Мова програмування\"\n",
        "data.dropna(axis=0, how='any', subset=['Мова програмування'], inplace=True)\n",
        "\n",
        "\n"
      ],
      "metadata": {
        "id": "I0q1XKp-pGLr"
      },
      "execution_count": 9,
      "outputs": []
    },
    {
      "cell_type": "code",
      "source": [
        "# Знову порахуйте, яка частка пропусків міститься в кожній колонці\n",
        "missing_values = data.isnull().sum() / len(data)\n",
        "print(\"\\nЧастка пропусків в кожній колонці після видалення:\")\n",
        "print(missing_values)"
      ],
      "metadata": {
        "id": "uif-fN1IpH_X",
        "outputId": "51f92ace-5574-45a4-e48f-60c36b16a048",
        "colab": {
          "base_uri": "https://localhost:8080/"
        }
      },
      "execution_count": 10,
      "outputs": [
        {
          "output_type": "stream",
          "name": "stdout",
          "text": [
            "\n",
            "Частка пропусків в кожній колонці після видалення:\n",
            "N                                   0.000000\n",
            "Посада                              0.000000\n",
            "Мова програмування                  0.000000\n",
            "Спеціалізація                       0.999794\n",
            "Загальний досвід роботи             0.000000\n",
            "Досвід роботи на поточному місці    0.000000\n",
            "Зарплата на місяць                  0.000000\n",
            "Зміна зарплати за 12 місяців        0.000000\n",
            "Місто                               0.000000\n",
            "Розмір компанії                     0.000000\n",
            "Тип компанії                        0.000000\n",
            "Стать                               0.000000\n",
            "Вік                                 0.000000\n",
            "Освіта                              0.000000\n",
            "Університет                         0.047590\n",
            "Ще студент                          0.000000\n",
            "Рівень англійської                  0.000000\n",
            "Предметна область                   0.006180\n",
            "Дата заповнення                     0.000000\n",
            "User.Agent                          0.000000\n",
            "exp                                 0.000000\n",
            "current_job_exp                     0.000000\n",
            "salary                              0.000000\n",
            "Валюта                              0.998352\n",
            "cls                                 0.001648\n",
            "Unnamed: 25                         1.000000\n",
            "Unnamed: 26                         1.000000\n",
            "dtype: float64\n"
          ]
        }
      ]
    },
    {
      "cell_type": "code",
      "source": [
        "# Видаліть усі рядки у вихідній таблиці за допомогою методу dropna\n",
        "data.dropna(inplace=True)\n",
        "\n",
        "print(data)"
      ],
      "metadata": {
        "id": "Y1emKIlupJdt",
        "outputId": "27f0b2d8-1c30-4073-ae94-d0c0482e4c12",
        "colab": {
          "base_uri": "https://localhost:8080/"
        }
      },
      "execution_count": 11,
      "outputs": [
        {
          "output_type": "stream",
          "name": "stdout",
          "text": [
            "Empty DataFrame\n",
            "Columns: [N, Посада, Мова програмування, Спеціалізація, Загальний досвід роботи, Досвід роботи на поточному місці, Зарплата на місяць, Зміна зарплати за 12 місяців, Місто, Розмір компанії, Тип компанії, Стать, Вік, Освіта, Університет, Ще студент, Рівень англійської, Предметна область, Дата заповнення, User.Agent, exp, current_job_exp, salary, Валюта, cls, Unnamed: 25, Unnamed: 26]\n",
            "Index: []\n",
            "\n",
            "[0 rows x 27 columns]\n"
          ]
        }
      ]
    },
    {
      "cell_type": "code",
      "source": [
        "\n",
        "\n",
        "# Визначте новий розмір таблиці за допомогою методу shape\n",
        "print(\"\\nНовий розмір таблиці:\", data.shape)"
      ],
      "metadata": {
        "id": "PHJUKNLIpKz8",
        "outputId": "4afdaa1c-3e4d-4898-cc57-381192c05c26",
        "colab": {
          "base_uri": "https://localhost:8080/"
        }
      },
      "execution_count": 12,
      "outputs": [
        {
          "output_type": "stream",
          "name": "stdout",
          "text": [
            "\n",
            "Новий розмір таблиці: (0, 27)\n"
          ]
        }
      ]
    },
    {
      "cell_type": "code",
      "source": [
        "\n",
        "\n",
        "# Створіть нову таблицю python_data, в якій будуть тільки рядки зі спеціалістами, які вказали мову програмування Python\n",
        "python_data = data[data['Мова програмування'] == 'Python']"
      ],
      "metadata": {
        "id": "-vPi3yH9pMbG"
      },
      "execution_count": 13,
      "outputs": []
    },
    {
      "cell_type": "code",
      "source": [
        "\n",
        "# Визначте розмір таблиці python_data за допомогою методу shape\n",
        "print(\"\\nРозмір таблиці з програмістами, які використовують Python:\", python_data.shape)"
      ],
      "metadata": {
        "colab": {
          "base_uri": "https://localhost:8080/"
        },
        "id": "_exs_ctcpOTO",
        "outputId": "52f7e293-d900-4e00-fa15-fdfbd37aa251"
      },
      "execution_count": 14,
      "outputs": [
        {
          "output_type": "stream",
          "name": "stdout",
          "text": [
            "\n",
            "Розмір таблиці з програмістами, які використовують Python: (0, 27)\n"
          ]
        }
      ]
    },
    {
      "cell_type": "code",
      "source": [
        "# Використовуючи метод groupby, виконайте групування за стовпчиком \"Посада\"\n",
        "grouped_data = data.groupby('Посада')"
      ],
      "metadata": {
        "id": "dI167_uRpQwm"
      },
      "execution_count": 15,
      "outputs": []
    },
    {
      "cell_type": "code",
      "source": [
        "# Створіть новий DataFrame, де для згрупованих даних за стовпчиком \"Посада\", виконайте агрегацію даних за допомогою методу agg і знайдіть мінімальне та максимальне значення у стовпчику \"Зарплата.в.місяць\"\n",
        "aggregated_data = grouped_data.agg({'Зарплата на місяць': ['min', 'max']})\n",
        "print(aggregated_data)\n"
      ],
      "metadata": {
        "id": "rTR219nrpSD-",
        "outputId": "82642d23-896e-4dc2-e7fe-fea2cea8609c",
        "colab": {
          "base_uri": "https://localhost:8080/"
        }
      },
      "execution_count": 16,
      "outputs": [
        {
          "output_type": "stream",
          "name": "stdout",
          "text": [
            "Empty DataFrame\n",
            "Columns: [(Зарплата на місяць, min), (Зарплата на місяць, max)]\n",
            "Index: []\n"
          ]
        }
      ]
    },
    {
      "cell_type": "code",
      "source": [
        "# Виведіть результат агрегації\n",
        "print(\"\\nМінімальна та максимальна зарплата за посадами:\")\n",
        "print(aggregated_data)"
      ],
      "metadata": {
        "id": "P0qEUsMipTtF",
        "outputId": "b84ea457-76c0-4b3e-9009-35adc23a54b3",
        "colab": {
          "base_uri": "https://localhost:8080/"
        }
      },
      "execution_count": 17,
      "outputs": [
        {
          "output_type": "stream",
          "name": "stdout",
          "text": [
            "\n",
            "Мінімальна та максимальна зарплата за посадами:\n",
            "Empty DataFrame\n",
            "Columns: [(Зарплата на місяць, min), (Зарплата на місяць, max)]\n",
            "Index: []\n"
          ]
        }
      ]
    },
    {
      "cell_type": "code",
      "source": [
        "\n",
        "# Створіть функцію fill_avg_salary, яка повертатиме середнє значення заробітної плати на місяць.\n",
        "def fill_avg_salary(row):\n",
        "    return (row['Зарплата на місяць'].min() + row['Зарплата на місяць'].max()) / 2\n"
      ],
      "metadata": {
        "id": "g1Qc8R7ypVtA"
      },
      "execution_count": 18,
      "outputs": []
    },
    {
      "cell_type": "code",
      "source": [
        "# Використайте функцію fill_avg_salary для методу apply та створіть новий стовпчик \"avg\"\n",
        "data['avg'] = data.apply(fill_avg_salary, axis=1)\n"
      ],
      "metadata": {
        "id": "VVVmsTT9pXan"
      },
      "execution_count": 19,
      "outputs": []
    },
    {
      "cell_type": "code",
      "execution_count": 20,
      "metadata": {
        "id": "Q0uLWWD_IN98",
        "outputId": "64b474bb-2dd5-4474-a9b1-6fa5fa8d693b",
        "colab": {
          "base_uri": "https://localhost:8080/"
        }
      },
      "outputs": [
        {
          "output_type": "stream",
          "name": "stdout",
          "text": [
            "\n",
            "Описова статистика для нового стовпчика 'avg':\n",
            "count    0.0\n",
            "mean     NaN\n",
            "std      NaN\n",
            "min      NaN\n",
            "25%      NaN\n",
            "50%      NaN\n",
            "75%      NaN\n",
            "max      NaN\n",
            "Name: avg, dtype: float64\n"
          ]
        }
      ],
      "source": [
        "\n",
        "\n",
        "# Створіть описову статистику за допомогою методу describe для нового стовпчика.\n",
        "print(\"\\nОписова статистика для нового стовпчика 'avg':\")\n",
        "print(data['avg'].describe())\n",
        "\n",
        "\n"
      ]
    },
    {
      "cell_type": "code",
      "source": [
        "# Задаємо шлях для збереження файлу CSV\n",
        "output_file_path = '/content/drive/My Drive/Colab Notebooks/2017_jun_final_output.csv'\n",
        "\n",
        "# Збереження таблиці у файл CSV\n",
        "data.to_csv(output_file_path, index=False)\n"
      ],
      "metadata": {
        "id": "tWQECoswpteu"
      },
      "execution_count": 22,
      "outputs": []
    }
  ],
  "metadata": {
    "colab": {
      "provenance": [],
      "authorship_tag": "ABX9TyM66NGd53/ZL+CFgtVPwbEA",
      "include_colab_link": true
    },
    "kernelspec": {
      "display_name": "Python 3",
      "name": "python3"
    },
    "language_info": {
      "name": "python"
    }
  },
  "nbformat": 4,
  "nbformat_minor": 0
}