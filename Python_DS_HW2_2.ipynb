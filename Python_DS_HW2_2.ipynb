{
  "cells": [
    {
      "cell_type": "markdown",
      "metadata": {
        "id": "view-in-github",
        "colab_type": "text"
      },
      "source": [
        "<a href=\"https://colab.research.google.com/github/Viktoriia-Osmanova/main-repo/blob/main/Python_DS_HW2_2.ipynb\" target=\"_parent\"><img src=\"https://colab.research.google.com/assets/colab-badge.svg\" alt=\"Open In Colab\"/></a>"
      ]
    },
    {
      "cell_type": "code",
      "source": [
        "from google.colab import drive\n",
        "drive.mount(\"/content/drive\", force_remount=True)\n",
        "\n",
        "import pandas as pd\n",
        "\n",
        "# Використання відносного шляху до файлу\n",
        "file_path = '/content/drive/My Drive/Colab Notebooks/2017_jun_final.csv'\n",
        "\n",
        "\n"
      ],
      "metadata": {
        "id": "sFJvvJVOl2wQ"
      },
      "execution_count": null,
      "outputs": []
    },
    {
      "cell_type": "code",
      "source": [
        "import pandas as pd\n",
        "\n",
        "# Прочитайте файл 2017_jun_final.csv за допомогою методу read_csv\n",
        "data = pd.read_csv(file_path, encoding='UTF-8', sep=';')"
      ],
      "metadata": {
        "id": "bE-cHQvDo7ne"
      },
      "execution_count": 43,
      "outputs": []
    },
    {
      "cell_type": "code",
      "source": [
        "# Виведіть перші рядки таблиці за допомогою методу head\n",
        "print(\"Перші рядки таблиці:\")\n",
        "print(data.head())"
      ],
      "metadata": {
        "id": "egSaK4HUo-sE"
      },
      "execution_count": null,
      "outputs": []
    },
    {
      "cell_type": "code",
      "source": [
        "# Визначте розмір таблиці за допомогою методу shape\n",
        "print(\"\\nРозмір таблиці:\", data.shape)"
      ],
      "metadata": {
        "id": "oMYVBONtpARs"
      },
      "execution_count": null,
      "outputs": []
    },
    {
      "cell_type": "code",
      "source": [
        "# Визначте типи всіх стовпців за допомогою dataframe.dtypes\n",
        "print(\"\\nТипи всіх стовпців:\")\n",
        "print(data.dtypes)"
      ],
      "metadata": {
        "id": "QKcnMEgHpBtS"
      },
      "execution_count": null,
      "outputs": []
    },
    {
      "cell_type": "code",
      "source": [
        "# Порахуйте, яка частка пропусків міститься в кожній колонці\n",
        "missing_values = data.isnull().sum() / len(data)\n",
        "print(\"\\nЧастка пропусків в кожній колонці:\")\n",
        "print(missing_values)"
      ],
      "metadata": {
        "id": "IxEusKLlpEkY"
      },
      "execution_count": null,
      "outputs": []
    },
    {
      "cell_type": "code",
      "source": [
        "print(data.columns)\n"
      ],
      "metadata": {
        "colab": {
          "base_uri": "https://localhost:8080/"
        },
        "id": "YZC_oanBqs90",
        "outputId": "a9f88b4b-28e4-4102-864d-1f84655e61f8"
      },
      "execution_count": 51,
      "outputs": [
        {
          "output_type": "stream",
          "name": "stdout",
          "text": [
            "Index(['N', 'Посада', 'Мова програмування', 'Спеціалізація',\n",
            "       'Загальний досвід роботи', 'Досвід роботи на поточному місці',\n",
            "       'Зарплата на місяць', 'Зміна зарплати за 12 місяців', 'Місто',\n",
            "       'Розмір компанії', 'Тип компанії', 'Стать', 'Вік', 'Освіта',\n",
            "       'Університет', 'Ще студент', 'Рівень англійської', 'Предметна область',\n",
            "       'Дата заповнення', 'User.Agent', 'exp', 'current_job_exp', 'salary',\n",
            "       'Валюта', 'cls', 'Unnamed: 25', 'Unnamed: 26'],\n",
            "      dtype='object')\n"
          ]
        }
      ]
    },
    {
      "cell_type": "code",
      "source": [
        "# Видалення усіх стовпців з пропусками, крім стовпця \"Мова програмування\"\n",
        "data.dropna(axis=0, how='any', subset=['Мова програмування'], inplace=True)\n",
        "\n",
        "\n"
      ],
      "metadata": {
        "colab": {
          "base_uri": "https://localhost:8080/"
        },
        "id": "I0q1XKp-pGLr",
        "outputId": "45213683-82db-4e8b-b1e3-b9c7672496de"
      },
      "execution_count": 58,
      "outputs": [
        {
          "output_type": "stream",
          "name": "stdout",
          "text": [
            "Index(['N', 'Посада', 'Мова програмування', 'Спеціалізація',\n",
            "       'Загальний досвід роботи', 'Досвід роботи на поточному місці',\n",
            "       'Зарплата на місяць', 'Зміна зарплати за 12 місяців', 'Місто',\n",
            "       'Розмір компанії', 'Тип компанії', 'Стать', 'Вік', 'Освіта',\n",
            "       'Університет', 'Ще студент', 'Рівень англійської', 'Предметна область',\n",
            "       'Дата заповнення', 'User.Agent', 'exp', 'current_job_exp', 'salary',\n",
            "       'Валюта', 'cls', 'Unnamed: 25', 'Unnamed: 26'],\n",
            "      dtype='object')\n"
          ]
        }
      ]
    },
    {
      "cell_type": "code",
      "source": [
        "# Знову порахуйте, яка частка пропусків міститься в кожній колонці\n",
        "missing_values = data.isnull().sum() / len(data)\n",
        "print(\"\\nЧастка пропусків в кожній колонці після видалення:\")\n",
        "print(missing_values)"
      ],
      "metadata": {
        "colab": {
          "base_uri": "https://localhost:8080/"
        },
        "id": "uif-fN1IpH_X",
        "outputId": "6904e98b-b564-4df4-8358-8a27df0838c7"
      },
      "execution_count": 59,
      "outputs": [
        {
          "output_type": "stream",
          "name": "stdout",
          "text": [
            "\n",
            "Частка пропусків в кожній колонці після видалення:\n",
            "N                                   0.000000\n",
            "Посада                              0.000000\n",
            "Мова програмування                  0.000000\n",
            "Спеціалізація                       0.999794\n",
            "Загальний досвід роботи             0.000000\n",
            "Досвід роботи на поточному місці    0.000000\n",
            "Зарплата на місяць                  0.000000\n",
            "Зміна зарплати за 12 місяців        0.000000\n",
            "Місто                               0.000000\n",
            "Розмір компанії                     0.000000\n",
            "Тип компанії                        0.000000\n",
            "Стать                               0.000000\n",
            "Вік                                 0.000000\n",
            "Освіта                              0.000000\n",
            "Університет                         0.047590\n",
            "Ще студент                          0.000000\n",
            "Рівень англійської                  0.000000\n",
            "Предметна область                   0.006180\n",
            "Дата заповнення                     0.000000\n",
            "User.Agent                          0.000000\n",
            "exp                                 0.000000\n",
            "current_job_exp                     0.000000\n",
            "salary                              0.000000\n",
            "Валюта                              0.998352\n",
            "cls                                 0.001648\n",
            "Unnamed: 25                         1.000000\n",
            "Unnamed: 26                         1.000000\n",
            "dtype: float64\n"
          ]
        }
      ]
    },
    {
      "cell_type": "code",
      "source": [
        "# Видаліть усі рядки у вихідній таблиці за допомогою методу dropna\n",
        "data.dropna(inplace=True)\n",
        "\n",
        "print(data)"
      ],
      "metadata": {
        "colab": {
          "base_uri": "https://localhost:8080/"
        },
        "id": "Y1emKIlupJdt",
        "outputId": "9a39288e-71c6-4e3c-b0d7-ff0e3d2f2645"
      },
      "execution_count": 77,
      "outputs": [
        {
          "output_type": "stream",
          "name": "stdout",
          "text": [
            "Empty DataFrame\n",
            "Columns: [N, Посада, Мова програмування, Спеціалізація, Загальний досвід роботи, Досвід роботи на поточному місці, Зарплата на місяць, Зміна зарплати за 12 місяців, Місто, Розмір компанії, Тип компанії, Стать, Вік, Освіта, Університет, Ще студент, Рівень англійської, Предметна область, Дата заповнення, User.Agent, exp, current_job_exp, salary, Валюта, cls, Unnamed: 25, Unnamed: 26, avg]\n",
            "Index: []\n",
            "\n",
            "[0 rows x 28 columns]\n"
          ]
        }
      ]
    },
    {
      "cell_type": "code",
      "source": [
        "\n",
        "\n",
        "# Визначте новий розмір таблиці за допомогою методу shape\n",
        "print(\"\\nНовий розмір таблиці:\", data.shape)"
      ],
      "metadata": {
        "colab": {
          "base_uri": "https://localhost:8080/"
        },
        "id": "PHJUKNLIpKz8",
        "outputId": "b2281c77-fabc-4e77-a463-7500d4189dac"
      },
      "execution_count": 61,
      "outputs": [
        {
          "output_type": "stream",
          "name": "stdout",
          "text": [
            "\n",
            "Новий розмір таблиці: (0, 27)\n"
          ]
        }
      ]
    },
    {
      "cell_type": "code",
      "source": [
        "\n",
        "\n",
        "# Створіть нову таблицю python_data, в якій будуть тільки рядки зі спеціалістами, які вказали мову програмування Python\n",
        "python_data = data[data['Мова програмування'] == 'Python']"
      ],
      "metadata": {
        "id": "-vPi3yH9pMbG"
      },
      "execution_count": 75,
      "outputs": []
    },
    {
      "cell_type": "code",
      "source": [
        "\n",
        "# Визначте розмір таблиці python_data за допомогою методу shape\n",
        "print(\"\\nРозмір таблиці з програмістами, які використовують Python:\", python_data.shape)"
      ],
      "metadata": {
        "colab": {
          "base_uri": "https://localhost:8080/"
        },
        "id": "_exs_ctcpOTO",
        "outputId": "18a458c6-a08c-4258-e6b3-205642a332d3"
      },
      "execution_count": 76,
      "outputs": [
        {
          "output_type": "stream",
          "name": "stdout",
          "text": [
            "\n",
            "Розмір таблиці з програмістами, які використовують Python: (0, 28)\n"
          ]
        }
      ]
    },
    {
      "cell_type": "code",
      "source": [
        "# Використовуючи метод groupby, виконайте групування за стовпчиком \"Посада\"\n",
        "grouped_data = data.groupby('Посада')"
      ],
      "metadata": {
        "id": "dI167_uRpQwm"
      },
      "execution_count": 64,
      "outputs": []
    },
    {
      "cell_type": "code",
      "source": [
        "# Створіть новий DataFrame, де для згрупованих даних за стовпчиком \"Посада\", виконайте агрегацію даних за допомогою методу agg і знайдіть мінімальне та максимальне значення у стовпчику \"Зарплата.в.місяць\"\n",
        "aggregated_data = grouped_data.agg({'Зарплата на місяць': ['min', 'max']})\n",
        "print(aggregated_data)\n"
      ],
      "metadata": {
        "colab": {
          "base_uri": "https://localhost:8080/"
        },
        "id": "rTR219nrpSD-",
        "outputId": "317cba62-5637-4214-b492-df353f2d2d46"
      },
      "execution_count": 68,
      "outputs": [
        {
          "output_type": "stream",
          "name": "stdout",
          "text": [
            "Empty DataFrame\n",
            "Columns: [(Зарплата на місяць, min), (Зарплата на місяць, max)]\n",
            "Index: []\n"
          ]
        }
      ]
    },
    {
      "cell_type": "code",
      "source": [
        "# Виведіть результат агрегації\n",
        "print(\"\\nМінімальна та максимальна зарплата за посадами:\")\n",
        "print(aggregated_data)"
      ],
      "metadata": {
        "colab": {
          "base_uri": "https://localhost:8080/"
        },
        "id": "P0qEUsMipTtF",
        "outputId": "4cebc109-b0e3-46ba-ec81-76af26c5b5cb"
      },
      "execution_count": 69,
      "outputs": [
        {
          "output_type": "stream",
          "name": "stdout",
          "text": [
            "\n",
            "Мінімальна та максимальна зарплата за посадами:\n",
            "Empty DataFrame\n",
            "Columns: [(Зарплата на місяць, min), (Зарплата на місяць, max)]\n",
            "Index: []\n"
          ]
        }
      ]
    },
    {
      "cell_type": "code",
      "source": [
        "\n",
        "# Створіть функцію fill_avg_salary, яка повертатиме середнє значення заробітної плати на місяць.\n",
        "def fill_avg_salary(row):\n",
        "    return (row['Зарплата на місяць'].min() + row['Зарплата на місяць'].max()) / 2\n"
      ],
      "metadata": {
        "id": "g1Qc8R7ypVtA"
      },
      "execution_count": 70,
      "outputs": []
    },
    {
      "cell_type": "code",
      "source": [
        "# Використайте функцію fill_avg_salary для методу apply та створіть новий стовпчик \"avg\"\n",
        "data['avg'] = data.apply(fill_avg_salary, axis=1)\n"
      ],
      "metadata": {
        "id": "VVVmsTT9pXan"
      },
      "execution_count": 71,
      "outputs": []
    },
    {
      "cell_type": "code",
      "execution_count": 72,
      "metadata": {
        "colab": {
          "base_uri": "https://localhost:8080/"
        },
        "id": "Q0uLWWD_IN98",
        "outputId": "26664a7a-cf8e-49de-f9f6-4ad140f07693"
      },
      "outputs": [
        {
          "output_type": "stream",
          "name": "stdout",
          "text": [
            "\n",
            "Описова статистика для нового стовпчика 'avg':\n",
            "count    0.0\n",
            "mean     NaN\n",
            "std      NaN\n",
            "min      NaN\n",
            "25%      NaN\n",
            "50%      NaN\n",
            "75%      NaN\n",
            "max      NaN\n",
            "Name: avg, dtype: float64\n"
          ]
        }
      ],
      "source": [
        "\n",
        "\n",
        "# Створіть описову статистику за допомогою методу describe для нового стовпчика.\n",
        "print(\"\\nОписова статистика для нового стовпчика 'avg':\")\n",
        "print(data['avg'].describe())\n",
        "\n",
        "\n"
      ]
    },
    {
      "cell_type": "code",
      "source": [
        "# Задаємо шлях для збереження файлу CSV\n",
        "output_file_path = '/content/drive/My Drive/Colab Notebooks/2017_jun_final_output.csv'\n",
        "\n",
        "# Збереження таблиці у файл CSV\n",
        "data.to_csv(output_file_path, index=False)\n"
      ],
      "metadata": {
        "id": "tWQECoswpteu"
      },
      "execution_count": 74,
      "outputs": []
    }
  ],
  "metadata": {
    "colab": {
      "provenance": [],
      "authorship_tag": "ABX9TyM66NGd53/ZL+CFgtVPwbEA",
      "include_colab_link": true
    },
    "kernelspec": {
      "display_name": "Python 3",
      "name": "python3"
    },
    "language_info": {
      "name": "python"
    }
  },
  "nbformat": 4,
  "nbformat_minor": 0
}