{
  "cells": [
    {
      "cell_type": "markdown",
      "metadata": {
        "id": "view-in-github",
        "colab_type": "text"
      },
      "source": [
        "<a href=\"https://colab.research.google.com/github/Viktoriia-Osmanova/main-repo/blob/main/Python_DS_HW2_2.ipynb\" target=\"_parent\"><img src=\"https://colab.research.google.com/assets/colab-badge.svg\" alt=\"Open In Colab\"/></a>"
      ]
    },
    {
      "cell_type": "code",
      "source": [
        "from google.colab import drive\n",
        "drive.mount(\"/content/drive\", force_remount=True)\n",
        "\n",
        "import pandas as pd\n",
        "\n",
        "# Використання відносного шляху до файлу\n",
        "file_path = '/content/drive/My Drive/Colab Notebooks/2017_jun_final.csv'\n",
        "\n",
        "\n"
      ],
      "metadata": {
        "id": "sFJvvJVOl2wQ"
      },
      "execution_count": null,
      "outputs": []
    },
    {
      "cell_type": "code",
      "source": [
        "import pandas as pd\n",
        "\n",
        "# Прочитайте файл 2017_jun_final.csv за допомогою методу read_csv\n",
        "data = pd.read_csv(file_path, encoding='UTF-8', sep=';')"
      ],
      "metadata": {
        "id": "bE-cHQvDo7ne"
      },
      "execution_count": 43,
      "outputs": []
    },
    {
      "cell_type": "code",
      "source": [
        "# Виведіть перші рядки таблиці за допомогою методу head\n",
        "print(\"Перші рядки таблиці:\")\n",
        "print(data.head())"
      ],
      "metadata": {
        "id": "egSaK4HUo-sE"
      },
      "execution_count": null,
      "outputs": []
    },
    {
      "cell_type": "code",
      "source": [
        "# Визначте розмір таблиці за допомогою методу shape\n",
        "print(\"\\nРозмір таблиці:\", data.shape)"
      ],
      "metadata": {
        "id": "oMYVBONtpARs"
      },
      "execution_count": null,
      "outputs": []
    },
    {
      "cell_type": "code",
      "source": [
        "# Визначте типи всіх стовпців за допомогою dataframe.dtypes\n",
        "print(\"\\nТипи всіх стовпців:\")\n",
        "print(data.dtypes)"
      ],
      "metadata": {
        "id": "QKcnMEgHpBtS"
      },
      "execution_count": null,
      "outputs": []
    },
    {
      "cell_type": "code",
      "source": [
        "# Порахуйте, яка частка пропусків міститься в кожній колонці\n",
        "missing_values = data.isnull().sum() / len(data)\n",
        "print(\"\\nЧастка пропусків в кожній колонці:\")\n",
        "print(missing_values)"
      ],
      "metadata": {
        "id": "IxEusKLlpEkY"
      },
      "execution_count": null,
      "outputs": []
    },
    {
      "cell_type": "code",
      "source": [
        "print(data.columns)\n"
      ],
      "metadata": {
        "id": "YZC_oanBqs90"
      },
      "execution_count": null,
      "outputs": []
    },
    {
      "cell_type": "code",
      "source": [
        "# Видалення усіх стовпців з пропусками, крім стовпця \"Мова програмування\"\n",
        "data.dropna(axis=0, how='any', subset=['Мова програмування'], inplace=True)\n",
        "\n",
        "\n"
      ],
      "metadata": {
        "id": "I0q1XKp-pGLr"
      },
      "execution_count": null,
      "outputs": []
    },
    {
      "cell_type": "code",
      "source": [
        "# Знову порахуйте, яка частка пропусків міститься в кожній колонці\n",
        "missing_values = data.isnull().sum() / len(data)\n",
        "print(\"\\nЧастка пропусків в кожній колонці після видалення:\")\n",
        "print(missing_values)"
      ],
      "metadata": {
        "id": "uif-fN1IpH_X"
      },
      "execution_count": null,
      "outputs": []
    },
    {
      "cell_type": "code",
      "source": [
        "# Видаліть усі рядки у вихідній таблиці за допомогою методу dropna\n",
        "data.dropna(inplace=True)\n",
        "\n",
        "print(data)"
      ],
      "metadata": {
        "id": "Y1emKIlupJdt"
      },
      "execution_count": null,
      "outputs": []
    },
    {
      "cell_type": "code",
      "source": [
        "\n",
        "\n",
        "# Визначте новий розмір таблиці за допомогою методу shape\n",
        "print(\"\\nНовий розмір таблиці:\", data.shape)"
      ],
      "metadata": {
        "id": "PHJUKNLIpKz8"
      },
      "execution_count": null,
      "outputs": []
    },
    {
      "cell_type": "code",
      "source": [
        "\n",
        "\n",
        "# Створіть нову таблицю python_data, в якій будуть тільки рядки зі спеціалістами, які вказали мову програмування Python\n",
        "python_data = data[data['Мова програмування'] == 'Python']"
      ],
      "metadata": {
        "id": "-vPi3yH9pMbG"
      },
      "execution_count": 75,
      "outputs": []
    },
    {
      "cell_type": "code",
      "source": [
        "\n",
        "# Визначте розмір таблиці python_data за допомогою методу shape\n",
        "print(\"\\nРозмір таблиці з програмістами, які використовують Python:\", python_data.shape)"
      ],
      "metadata": {
        "colab": {
          "base_uri": "https://localhost:8080/"
        },
        "id": "_exs_ctcpOTO",
        "outputId": "18a458c6-a08c-4258-e6b3-205642a332d3"
      },
      "execution_count": 76,
      "outputs": [
        {
          "output_type": "stream",
          "name": "stdout",
          "text": [
            "\n",
            "Розмір таблиці з програмістами, які використовують Python: (0, 28)\n"
          ]
        }
      ]
    },
    {
      "cell_type": "code",
      "source": [
        "# Використовуючи метод groupby, виконайте групування за стовпчиком \"Посада\"\n",
        "grouped_data = data.groupby('Посада')"
      ],
      "metadata": {
        "id": "dI167_uRpQwm"
      },
      "execution_count": 64,
      "outputs": []
    },
    {
      "cell_type": "code",
      "source": [
        "# Створіть новий DataFrame, де для згрупованих даних за стовпчиком \"Посада\", виконайте агрегацію даних за допомогою методу agg і знайдіть мінімальне та максимальне значення у стовпчику \"Зарплата.в.місяць\"\n",
        "aggregated_data = grouped_data.agg({'Зарплата на місяць': ['min', 'max']})\n",
        "print(aggregated_data)\n"
      ],
      "metadata": {
        "id": "rTR219nrpSD-"
      },
      "execution_count": null,
      "outputs": []
    },
    {
      "cell_type": "code",
      "source": [
        "# Виведіть результат агрегації\n",
        "print(\"\\nМінімальна та максимальна зарплата за посадами:\")\n",
        "print(aggregated_data)"
      ],
      "metadata": {
        "id": "P0qEUsMipTtF"
      },
      "execution_count": null,
      "outputs": []
    },
    {
      "cell_type": "code",
      "source": [
        "\n",
        "# Створіть функцію fill_avg_salary, яка повертатиме середнє значення заробітної плати на місяць.\n",
        "def fill_avg_salary(row):\n",
        "    return (row['Зарплата на місяць'].min() + row['Зарплата на місяць'].max()) / 2\n"
      ],
      "metadata": {
        "id": "g1Qc8R7ypVtA"
      },
      "execution_count": 70,
      "outputs": []
    },
    {
      "cell_type": "code",
      "source": [
        "# Використайте функцію fill_avg_salary для методу apply та створіть новий стовпчик \"avg\"\n",
        "data['avg'] = data.apply(fill_avg_salary, axis=1)\n"
      ],
      "metadata": {
        "id": "VVVmsTT9pXan"
      },
      "execution_count": 71,
      "outputs": []
    },
    {
      "cell_type": "code",
      "execution_count": null,
      "metadata": {
        "id": "Q0uLWWD_IN98"
      },
      "outputs": [],
      "source": [
        "\n",
        "\n",
        "# Створіть описову статистику за допомогою методу describe для нового стовпчика.\n",
        "print(\"\\nОписова статистика для нового стовпчика 'avg':\")\n",
        "print(data['avg'].describe())\n",
        "\n",
        "\n"
      ]
    },
    {
      "cell_type": "code",
      "source": [
        "# Задаємо шлях для збереження файлу CSV\n",
        "output_file_path = '/content/drive/My Drive/Colab Notebooks/2017_jun_final_output.csv'\n",
        "\n",
        "# Збереження таблиці у файл CSV\n",
        "data.to_csv(output_file_path, index=False)\n"
      ],
      "metadata": {
        "id": "tWQECoswpteu"
      },
      "execution_count": 74,
      "outputs": []
    }
  ],
  "metadata": {
    "colab": {
      "provenance": [],
      "authorship_tag": "ABX9TyM66NGd53/ZL+CFgtVPwbEA",
      "include_colab_link": true
    },
    "kernelspec": {
      "display_name": "Python 3",
      "name": "python3"
    },
    "language_info": {
      "name": "python"
    }
  },
  "nbformat": 4,
  "nbformat_minor": 0
}