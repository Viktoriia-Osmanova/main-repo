{
  "nbformat": 4,
  "nbformat_minor": 0,
  "metadata": {
    "colab": {
      "provenance": [],
      "authorship_tag": "ABX9TyNdcoCCJy1kdVno5ZTsZVG4",
      "include_colab_link": true
    },
    "kernelspec": {
      "name": "python3",
      "display_name": "Python 3"
    },
    "language_info": {
      "name": "python"
    }
  },
  "cells": [
    {
      "cell_type": "markdown",
      "metadata": {
        "id": "view-in-github",
        "colab_type": "text"
      },
      "source": [
        "<a href=\"https://colab.research.google.com/github/Viktoriia-Osmanova/main-repo/blob/main/Python_DS_HW2_3.ipynb\" target=\"_parent\"><img src=\"https://colab.research.google.com/assets/colab-badge.svg\" alt=\"Open In Colab\"/></a>"
      ]
    },
    {
      "cell_type": "markdown",
      "source": [
        "#Первинне дослідження даних"
      ],
      "metadata": {
        "id": "SGyEaJ1RCC_X"
      }
    },
    {
      "cell_type": "code",
      "execution_count": null,
      "metadata": {
        "id": "gFbP4j1wCY4z"
      },
      "outputs": [],
      "source": [
        "from google.colab import drive\n",
        "drive.mount(\"/content/drive\", force_remount=True)\n",
        "\n",
        "import pandas as pd\n",
        "\n",
        "# Використання відносного шляху до файлу\n",
        "file_path = '/content/drive/My Drive/Colab Notebooks/bestsellers with categories.csv'\n",
        "\n",
        "import pandas as pd\n",
        "\n",
        "# Зчитуємо CSV-файл\n",
        "df = pd.read_csv(file_path)\n",
        "\n",
        "\n",
        "\n",
        "# Виводимо розмір датасету\n",
        "print(\"Розмір датасету:\", df.shape)\n",
        "\n",
        "df.columns = ['name', 'author', 'user_rating', 'reviews', 'price', 'year', 'genre']\n",
        "\n",
        "# Виводимо перші п'ять рядків\n",
        "print(\"Перші п'ять рядків датасету:\")\n",
        "print(df.head())\n",
        "\n"
      ]
    },
    {
      "cell_type": "code",
      "source": [
        "# Виведення кількості пропусків у кожному стовпці\n",
        "missing_values = df.isna().sum()\n",
        "print(\"Кількість пропусків у кожному стовпці:\")\n",
        "print(missing_values)"
      ],
      "metadata": {
        "id": "RGGDT9oqAlTk"
      },
      "execution_count": null,
      "outputs": []
    },
    {
      "cell_type": "code",
      "source": [
        "\n",
        "# Перевірка наявності пропусків у якихось змінних\n",
        "any_missing = any(missing_values > 0)\n",
        "print(\"Чи є в якихось змінних пропуски? Відповідь:\", \"Так\" if any_missing else \"Ні\")"
      ],
      "metadata": {
        "id": "vDGNSOhxAppk"
      },
      "execution_count": null,
      "outputs": []
    },
    {
      "cell_type": "code",
      "source": [
        "# Виведення унікальних значень у колонці \"genre\"\n",
        "unique_genres = df['genre'].unique()\n",
        "print(\"Унікальні жанри:\", unique_genres)"
      ],
      "metadata": {
        "id": "o1q2HmhYAti7"
      },
      "execution_count": null,
      "outputs": []
    },
    {
      "cell_type": "code",
      "source": [
        "# Побудова гістограми розподілу цін\n",
        "df['price'].plot(kind='hist', bins=20, edgecolor='black', figsize=(10, 6), title='Розподіл цін')\n"
      ],
      "metadata": {
        "id": "YgvS-AF6BSPy"
      },
      "execution_count": null,
      "outputs": []
    },
    {
      "cell_type": "code",
      "source": [
        "# Визначення максимальної, мінімальної, середньої та медіанної цін\n",
        "max_price = df['price'].max()\n",
        "min_price = df['price'].min()\n",
        "mean_price = df['price'].mean()\n",
        "median_price = df['price'].median()\n",
        "moda = df['price'].mode()\n",
        "\n",
        "print(\"Максимальна ціна:\", max_price)\n",
        "print(\"Мінімальна ціна:\", min_price)\n",
        "print(\"Середня ціна:\", mean_price)\n",
        "print(\"Медіанна ціна:\", median_price)\n",
        "print(\"Мода:\", median_price)\n"
      ],
      "metadata": {
        "id": "MakhwPC7Agup"
      },
      "execution_count": null,
      "outputs": []
    },
    {
      "cell_type": "markdown",
      "source": [
        "#Пошук та сортування даних"
      ],
      "metadata": {
        "id": "KXZmYCzrC0DC"
      }
    },
    {
      "cell_type": "code",
      "source": [
        "# Знайдемо найвищий рейтинг та кількість книг з таким рейтингом\n",
        "max_rating = df['user_rating'].max()\n",
        "books_with_max_rating = df[df['user_rating'] == max_rating].shape[0]\n",
        "\n",
        "# Знайдемо книгу з найбільшою кількістю відгуків\n",
        "most_reviewed_book = df.loc[df['reviews'].idxmax(), 'name']\n",
        "\n",
        "# Знайдемо найдорожчу книгу серед тих, що потрапили до Топ-50 у 2015 році\n",
        "max_price_2015 = df[(df['year'] == 2015)]['price'].max()\n",
        "most_expensive_book_2015 = df[(df['year'] == 2015) & (df['price'] == max_price_2015)]['name'].iloc[0]\n",
        "\n",
        "# Порахуємо кількість книг жанру Fiction, які потрапили до Топ-50 у 2010 році\n",
        "fiction_books_2010 = df[(df['genre'] == 'Fiction') & (df['year'] == 2010)].shape[0]\n",
        "\n",
        "# Порахуємо кількість книг з рейтингом 4.9, які потрапили до рейтингу у 2010 та 2011 роках\n",
        "books_with_4_9_rating = df[(df['user_rating'] == 4.9) & ((df['year'] == 2010) | (df['year'] == 2011))].shape[0]\n",
        "\n",
        "# Відсортуємо книги, які потрапили до рейтингу в 2015 році і коштують менше 8 доларів\n",
        "sorted_books_2015_under_8 = df[(df['year'] == 2015) & (df['price'] < 8)].sort_values(by='price')\n",
        "\n",
        "# Знайдемо останню книгу у відсортованому списку\n",
        "last_book_in_sorted_list = sorted_books_2015_under_8.iloc[-1]['name']\n",
        "\n",
        "print(\"Найвищий рейтинг у датасеті:\", max_rating)\n",
        "print(\"Кількість книг з найвищим рейтингом:\", books_with_max_rating)\n",
        "print(\"Книга з найбільшою кількістю відгуків:\", most_reviewed_book)\n",
        "print(\"Найдорожча книга серед тих, що потрапили до Топ-50 у 2015 році:\", most_expensive_book_2015)\n",
        "print(\"Кількість книг жанру Fiction, що потрапили до Топ-50 у 2010 році:\", fiction_books_2010)\n",
        "print(\"Кількість книг з рейтингом 4.9, що потрапили до рейтингу у 2010 та 2011 роках:\", books_with_4_9_rating)\n",
        "print(\"Назва останньої книги у відсортованому списку:\", last_book_in_sorted_list)\n"
      ],
      "metadata": {
        "colab": {
          "base_uri": "https://localhost:8080/"
        },
        "id": "bxZ9yu2DC2a2",
        "outputId": "414732a0-a7bb-4476-d5b3-f721a7b94b16"
      },
      "execution_count": 19,
      "outputs": [
        {
          "output_type": "stream",
          "name": "stdout",
          "text": [
            "Найвищий рейтинг у датасеті: 4.9\n",
            "Кількість книг з найвищим рейтингом: 52\n",
            "Книга з найбільшою кількістю відгуків: Where the Crawdads Sing\n",
            "Найдорожча книга серед тих, що потрапили до Топ-50 у 2015 році: Publication Manual of the American Psychological Association, 6th Edition\n",
            "Кількість книг жанру Fiction, що потрапили до Топ-50 у 2010 році: 20\n",
            "Кількість книг з рейтингом 4.9, що потрапили до рейтингу у 2010 та 2011 роках: 1\n",
            "Назва останньої книги у відсортованому списку: Old School (Diary of a Wimpy Kid #10)\n"
          ]
        }
      ]
    },
    {
      "cell_type": "markdown",
      "source": [
        "#Агрегування даних та з'єднання таблиць"
      ],
      "metadata": {
        "id": "Kpj9LSsvB1o8"
      }
    },
    {
      "cell_type": "code",
      "source": [
        "#Максимальна та мінімальна ціни для кожного з жанрів:\n",
        "\n",
        "max_prices = df.groupby('genre')['price'].max()\n",
        "min_prices = df.groupby('genre')['price'].min()\n",
        "\n",
        "print(min_prices, max_prices)"
      ],
      "metadata": {
        "id": "pcJLqITkB1Y3"
      },
      "execution_count": null,
      "outputs": []
    },
    {
      "cell_type": "code",
      "source": [
        "#Розмірність таблиці кількості книг для кожного з авторів:\n",
        "\n",
        "book_counts = df.groupby('author').size()\n",
        "print(book_counts)"
      ],
      "metadata": {
        "id": "AOJhAt9vEStY"
      },
      "execution_count": null,
      "outputs": []
    },
    {
      "cell_type": "code",
      "source": [
        "#Автор, у якого найбільше книг та кількість цих книг:\n",
        "\n",
        "max_books_author = book_counts.idxmax()\n",
        "max_books_count = book_counts.max()\n",
        "\n",
        "print(max_books_author, max_books_count)"
      ],
      "metadata": {
        "id": "Ez2hPPlAEcRR"
      },
      "execution_count": null,
      "outputs": []
    },
    {
      "cell_type": "code",
      "source": [
        "#Другий датафрейм з середнім рейтингом для кожного автора:\n",
        "\n",
        "\n",
        "mean_ratings = df.groupby('author')['user_rating'].mean()"
      ],
      "metadata": {
        "id": "cNXSSs3iEqEZ"
      },
      "execution_count": 26,
      "outputs": []
    },
    {
      "cell_type": "code",
      "source": [
        "#Автор з найнижчим середнім рейтингом та його значення:\n",
        "\n",
        "min_mean_rating_author = mean_ratings.idxmin()\n",
        "min_mean_rating_value = mean_ratings.min()\n"
      ],
      "metadata": {
        "id": "eVv-G4pAExRl"
      },
      "execution_count": 27,
      "outputs": []
    },
    {
      "cell_type": "code",
      "source": [
        "#З'єднання двох датафреймів:\n",
        "\n",
        "merged_df = pd.concat([book_counts, mean_ratings], axis=1)\n",
        "merged_df.columns = ['book_count', 'mean_rating']"
      ],
      "metadata": {
        "id": "u9EVRj1NE2OW"
      },
      "execution_count": 28,
      "outputs": []
    },
    {
      "cell_type": "code",
      "source": [
        "#Сортування датафрейму за кількістю книг та середнім рейтингом:\n",
        "\n",
        "sorted_df = merged_df.sort_values(by=['book_count', 'mean_rating'])\n"
      ],
      "metadata": {
        "id": "m6aEw28sE7_4"
      },
      "execution_count": 29,
      "outputs": []
    },
    {
      "cell_type": "markdown",
      "source": [
        "#Візуалізація"
      ],
      "metadata": {
        "id": "PHl8J9X1FjTg"
      }
    },
    {
      "cell_type": "code",
      "source": [
        "#Графік розподілу цін на книги для кожного жанру:\n",
        "\n",
        "import seaborn as sns\n",
        "import matplotlib.pyplot as plt\n",
        "import numpy as np\n",
        "\n",
        "\n",
        "plt.figure(figsize=(12, 8))\n",
        "sns.barplot(x='user_rating', y='author', hue='genre', data=df, estimator=np.mean)\n",
        "plt.title('Середній рейтинг книг за авторами за жанром')\n",
        "plt.xlabel('Середній рейтинг')\n",
        "plt.ylabel('Автор')\n",
        "plt.legend(title='Жанр')\n",
        "plt.show()\n"
      ],
      "metadata": {
        "id": "Qh9h2xYeFlq_"
      },
      "execution_count": null,
      "outputs": []
    },
    {
      "cell_type": "code",
      "source": [
        "#Графік рейтингу книг для кожного автора\n",
        "plt.figure(figsize=(12, 8))\n",
        "sns.barplot(x='user_rating', y='author', data=df, estimator=np.mean)\n",
        "plt.title('Середній рейтинг книг за авторами')\n",
        "plt.xlabel('Середній рейтинг')\n",
        "plt.ylabel('Автор')\n",
        "plt.show()\n"
      ],
      "metadata": {
        "id": "YdXdOHR5Hh_m"
      },
      "execution_count": null,
      "outputs": []
    },
    {
      "cell_type": "code",
      "source": [
        "#Розподіл кількості відгуків для кожного жанруplt.figure(figsize=(10, 6))\n",
        "sns.histplot(df, x='reviews', hue='genre', bins=20, kde=True)\n",
        "plt.title('Розподіл кількості відгуків за жанром')\n",
        "plt.xlabel('Кількість відгуків')\n",
        "plt.ylabel('Частота')\n",
        "plt.legend(title='Жанр')\n",
        "plt.show()\n"
      ],
      "metadata": {
        "id": "nBdxF3qdHsaW"
      },
      "execution_count": null,
      "outputs": []
    }
  ]
}