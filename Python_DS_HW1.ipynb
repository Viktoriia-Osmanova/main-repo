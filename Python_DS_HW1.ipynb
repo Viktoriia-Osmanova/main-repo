{
  "nbformat": 4,
  "nbformat_minor": 0,
  "metadata": {
    "colab": {
      "provenance": [],
      "authorship_tag": "ABX9TyO4rgcqhnC+KFHhORnh5kPG",
      "include_colab_link": true
    },
    "kernelspec": {
      "name": "python3",
      "display_name": "Python 3"
    },
    "language_info": {
      "name": "python"
    }
  },
  "cells": [
    {
      "cell_type": "markdown",
      "metadata": {
        "id": "view-in-github",
        "colab_type": "text"
      },
      "source": [
        "<a href=\"https://colab.research.google.com/github/Viktoriia-Osmanova/main-repo/blob/main/Python_DS_HW1.ipynb\" target=\"_parent\"><img src=\"https://colab.research.google.com/assets/colab-badge.svg\" alt=\"Open In Colab\"/></a>"
      ]
    },
    {
      "cell_type": "markdown",
      "source": [
        "Створіть одновимірний масив (вектор) з першими 10-ма натуральними числами та виведіть його значення.\n"
      ],
      "metadata": {
        "id": "iPFKGufQuEwb"
      }
    },
    {
      "cell_type": "code",
      "source": [
        "import numpy as np\n",
        "a = np.array([1,2,3,4,5,6,7,8,9,10])\n",
        "print(a)"
      ],
      "metadata": {
        "colab": {
          "base_uri": "https://localhost:8080/"
        },
        "id": "Q1LLAC8BuGpW",
        "outputId": "4c8038f2-41b9-45a1-c375-63b6fc8dea0d"
      },
      "execution_count": null,
      "outputs": [
        {
          "output_type": "stream",
          "name": "stdout",
          "text": [
            "[ 1  2  3  4  5  6  7  8  9 10]\n"
          ]
        }
      ]
    },
    {
      "cell_type": "markdown",
      "source": [
        "Створіть двовимірний масив (матрицю) розміром 3x3, заповніть його нулями та виведіть його значення."
      ],
      "metadata": {
        "id": "qrZyLNEOw8us"
      }
    },
    {
      "cell_type": "code",
      "source": [
        "a = np.zeros((3,3), dtype=int)\n",
        "print(a)"
      ],
      "metadata": {
        "colab": {
          "base_uri": "https://localhost:8080/"
        },
        "id": "wDyjcAAsw-CY",
        "outputId": "4e682260-6f1e-4591-8c99-fbabc96db2e8"
      },
      "execution_count": 42,
      "outputs": [
        {
          "output_type": "stream",
          "name": "stdout",
          "text": [
            "[[0 0 0]\n",
            " [0 0 0]\n",
            " [0 0 0]]\n"
          ]
        }
      ]
    },
    {
      "cell_type": "markdown",
      "source": [
        "Створіть масив розміром 5x5, заповніть його випадковими цілими числами в діапазоні від 1 до 10 та виведіть його значення."
      ],
      "metadata": {
        "id": "hW1cBJZmxzLG"
      }
    },
    {
      "cell_type": "code",
      "source": [
        "b = np.random.randint(1, 11, size=(5, 5), dtype=int)\n",
        "print(b)"
      ],
      "metadata": {
        "colab": {
          "base_uri": "https://localhost:8080/"
        },
        "id": "HxmYVr1sx1YS",
        "outputId": "e1bc8143-1061-4cc7-8f31-6a95554e1b04"
      },
      "execution_count": null,
      "outputs": [
        {
          "output_type": "stream",
          "name": "stdout",
          "text": [
            "[[ 6  7  1  3  7]\n",
            " [ 9  2  8  6  5]\n",
            " [ 6  4  5  8  6]\n",
            " [ 2 10  2  7  4]\n",
            " [ 1  7  3  3  9]]\n"
          ]
        }
      ]
    },
    {
      "cell_type": "markdown",
      "source": [
        "Створіть масив розміром 4x4, заповніть його випадковими дійсними числами в діапазоні від 0 до 1 та виведіть його значення."
      ],
      "metadata": {
        "id": "0T2_RNYBzLcM"
      }
    },
    {
      "cell_type": "code",
      "source": [
        "b = np.random.rand(4, 4)\n",
        "print(b)"
      ],
      "metadata": {
        "id": "_RAohpySzMKT"
      },
      "execution_count": null,
      "outputs": []
    },
    {
      "cell_type": "markdown",
      "source": [
        "Створіть два одновимірних масиви розміром 5, заповніть їх випадковими цілими числами в діапазоні від 1 до 10 та виконайте на них поелементні операції додавання, віднімання та множення."
      ],
      "metadata": {
        "id": "-D41VAuqK-Go"
      }
    },
    {
      "cell_type": "code",
      "source": [
        "a = np.random.randint(1,11, size=(1,5))\n",
        "b = np.random.randint(1,11, size=(1,5))\n",
        "summa = a+b\n",
        "vidnimanya=a-b\n",
        "mnozhenya=a*b\n",
        "print(a,b)\n",
        "print(summa)\n",
        "print(vidnimanya)\n",
        "print(mnozhenya)\n"
      ],
      "metadata": {
        "colab": {
          "base_uri": "https://localhost:8080/"
        },
        "id": "nioDt0yHK_Gn",
        "outputId": "58b7737d-6bfd-426d-a8b1-ac810d1c6e7f"
      },
      "execution_count": null,
      "outputs": [
        {
          "output_type": "stream",
          "name": "stdout",
          "text": [
            "[[9 4 5 7 1]] [[4 9 4 1 6]]\n",
            "[[13 13  9  8  7]]\n",
            "[[ 5 -5  1  6 -5]]\n",
            "[[36 36 20  7  6]]\n"
          ]
        }
      ]
    },
    {
      "cell_type": "markdown",
      "source": [
        "Створіть два вектори розміром 7, заповніть довільними числами та знайдіть їх скалярний добуток."
      ],
      "metadata": {
        "id": "mbA5at7If7Yw"
      }
    },
    {
      "cell_type": "code",
      "source": [
        "a = np.random.randint(1, 11, size=7)\n",
        "b = np.random.randint(1, 11, size=7)\n",
        "print(a)\n",
        "print(b)\n",
        "c=np.dot(a,b)\n",
        "print(c)"
      ],
      "metadata": {
        "colab": {
          "base_uri": "https://localhost:8080/"
        },
        "id": "fBDXubSwf8Yu",
        "outputId": "3f841223-e74c-44d8-b92b-ceb9ae78695f"
      },
      "execution_count": null,
      "outputs": [
        {
          "output_type": "stream",
          "name": "stdout",
          "text": [
            "[10  6  5  1  4  9  8]\n",
            "[ 4  3  3  8  7  4 10]\n",
            "225\n"
          ]
        }
      ]
    },
    {
      "cell_type": "markdown",
      "source": [
        "Створіть дві матриці розміром 2x2 та 2x3, заповніть їх випадковими цілими числами в діапазоні від 1 до 10 та перемножте їх між собою."
      ],
      "metadata": {
        "id": "qNUIc5ceiBEV"
      }
    },
    {
      "cell_type": "code",
      "source": [
        "a = np.random.randint(1, 11, size = (2,2))\n",
        "b = np.random.randint(1, 11, size = (2,3))\n",
        "print(a)\n",
        "print(b)\n",
        "c = np.dot(a,b)\n",
        "print(c)"
      ],
      "metadata": {
        "colab": {
          "base_uri": "https://localhost:8080/"
        },
        "id": "rUyMU-sGiEPw",
        "outputId": "b2bf3092-d740-40c1-b96a-dcd2f8b5185d"
      },
      "execution_count": null,
      "outputs": [
        {
          "output_type": "stream",
          "name": "stdout",
          "text": [
            "[[6 6]\n",
            " [8 8]]\n",
            "[[5 4 7]\n",
            " [3 7 4]]\n",
            "[[48 66 66]\n",
            " [64 88 88]]\n"
          ]
        }
      ]
    },
    {
      "cell_type": "markdown",
      "source": [
        "Створіть матрицю розміром 3x3, заповніть її випадковими цілими числами в діапазоні від 1 до 10 та знайдіть її обернену матрицю.\n"
      ],
      "metadata": {
        "id": "FX4FjdEVjnbJ"
      }
    },
    {
      "cell_type": "code",
      "source": [
        "a=np.random.randint(1,11, size = (3,3))\n",
        "print(a)\n",
        "b = np.linalg.inv(a)\n",
        "print(b)"
      ],
      "metadata": {
        "colab": {
          "base_uri": "https://localhost:8080/"
        },
        "id": "gf7rYb__jnFa",
        "outputId": "9bb52b23-ea3c-44bb-c8ac-e1aca56f4de4"
      },
      "execution_count": 16,
      "outputs": [
        {
          "output_type": "stream",
          "name": "stdout",
          "text": [
            "[[9 8 3]\n",
            " [2 8 6]\n",
            " [4 2 8]]\n",
            "[[ 0.11607143 -0.12946429  0.05357143]\n",
            " [ 0.01785714  0.13392857 -0.10714286]\n",
            " [-0.0625      0.03125     0.125     ]]\n"
          ]
        }
      ]
    },
    {
      "cell_type": "markdown",
      "source": [
        "Створіть матрицю розміром 4x4, заповніть її випадковими дійсними числами в діапазоні від 0 до 1 та транспонуйте її."
      ],
      "metadata": {
        "id": "IdDi-DQjkODT"
      }
    },
    {
      "cell_type": "code",
      "source": [
        "a = np.random.rand(4,4)\n",
        "print(a)\n",
        "transposed_matrix = np.transpose(a)"
      ],
      "metadata": {
        "colab": {
          "base_uri": "https://localhost:8080/"
        },
        "id": "NQVmrS_NkPmd",
        "outputId": "fe1a9295-908c-41d8-a041-32ba7aa401bc"
      },
      "execution_count": 19,
      "outputs": [
        {
          "output_type": "stream",
          "name": "stdout",
          "text": [
            "[[0.68410798 0.04086975 0.59102625 0.37507936]\n",
            " [0.28291127 0.74836787 0.02133876 0.36663026]\n",
            " [0.89872613 0.36703695 0.12042027 0.39412557]\n",
            " [0.11221628 0.71011662 0.91452067 0.31961487]]\n"
          ]
        }
      ]
    },
    {
      "cell_type": "markdown",
      "source": [
        "Створіть матрицю розміром 3x4 та вектор розміром 4, заповніть їх випадковими цілими числами в діапазоні від 1 до 10 та перемножте матрицю на вектор.\n"
      ],
      "metadata": {
        "id": "O2e0_yQ3q1cY"
      }
    },
    {
      "cell_type": "code",
      "source": [
        "a = np.random.randint(1,11, size=(3,4))\n",
        "b = np.random.randint(1,11, size=(4))\n",
        "print(a)\n",
        "print(b)\n",
        "c=np.dot(a,b)\n",
        "print(c)"
      ],
      "metadata": {
        "colab": {
          "base_uri": "https://localhost:8080/"
        },
        "id": "yfNi36UOq3ab",
        "outputId": "5a1441cb-96b1-401a-8886-235376be391a"
      },
      "execution_count": 24,
      "outputs": [
        {
          "output_type": "stream",
          "name": "stdout",
          "text": [
            "[[6 1 6 4]\n",
            " [6 3 8 9]\n",
            " [4 8 7 3]]\n",
            "[2 5 4 4]\n",
            "[57 95 88]\n"
          ]
        }
      ]
    },
    {
      "cell_type": "markdown",
      "source": [
        "Створіть матрицю розміром 2x3 та вектор розміром 3, заповніть їх випадковими дійсними числами в діапазоні від 0 до 1 та перемножте матрицю на вектор."
      ],
      "metadata": {
        "id": "Z6Ap0OQg100u"
      }
    },
    {
      "cell_type": "code",
      "source": [
        "a = np.random.rand(2, 3)\n",
        "b = np.random.rand(3)\n",
        "\n",
        "print(a)\n",
        "print(b)\n",
        "\n",
        "c = np.dot(a, b)\n",
        "\n",
        "print(c)\n"
      ],
      "metadata": {
        "colab": {
          "base_uri": "https://localhost:8080/"
        },
        "id": "Ab_GDU5k10NQ",
        "outputId": "66aa9069-0508-42ee-c956-d3c94a5d1759"
      },
      "execution_count": 41,
      "outputs": [
        {
          "output_type": "stream",
          "name": "stdout",
          "text": [
            "[[0.37673929 0.58906522 0.50032211]\n",
            " [0.91415184 0.70584977 0.22397851]]\n",
            "[0.88625092 0.18399701 0.45814345]\n",
            "[0.67149108 1.04265644]\n"
          ]
        }
      ]
    },
    {
      "cell_type": "markdown",
      "source": [
        "Створіть дві матриці розміром 2x2, заповніть їх випадковими цілими числами в діапазоні від 1 до 10 та виконайте їхнє поелементне множення."
      ],
      "metadata": {
        "id": "3B2PRP2RsQQ_"
      }
    },
    {
      "cell_type": "code",
      "source": [
        "a = np.random.randint(1,11, size=(2,2))\n",
        "b = np.random.randint(1,11, size=(2,2))\n",
        "c = a*b\n",
        "print(a)\n",
        "print(b)\n",
        "print(c)"
      ],
      "metadata": {
        "colab": {
          "base_uri": "https://localhost:8080/"
        },
        "id": "cG2WZCnusSlz",
        "outputId": "c146c6a0-ee78-4256-95a7-6c5097a6b49a"
      },
      "execution_count": 27,
      "outputs": [
        {
          "output_type": "stream",
          "name": "stdout",
          "text": [
            "[[3 1]\n",
            " [3 1]]\n",
            "[[10  4]\n",
            " [ 1  4]]\n",
            "[[30  4]\n",
            " [ 3  4]]\n"
          ]
        }
      ]
    },
    {
      "cell_type": "markdown",
      "source": [
        "Створіть дві матриці розміром 2x2, заповніть їх випадковими цілими числами в діапазоні від 1 до 10 та знайдіть їх добуток."
      ],
      "metadata": {
        "id": "sI9SH7WmsRRi"
      }
    },
    {
      "cell_type": "code",
      "source": [
        "a = np.random.randint(1,11, size=(2,2))\n",
        "b = np.random.randint(1,11, size=(2,2))\n",
        "print(a)\n",
        "print(b)\n",
        "c=np.dot(a,b)\n",
        "print(c)"
      ],
      "metadata": {
        "colab": {
          "base_uri": "https://localhost:8080/"
        },
        "id": "Mw9ar4_Hs9eb",
        "outputId": "0b1e885a-7db3-42cc-cc59-f83f03115c31"
      },
      "execution_count": 28,
      "outputs": [
        {
          "output_type": "stream",
          "name": "stdout",
          "text": [
            "[[5 4]\n",
            " [3 1]]\n",
            "[[3 1]\n",
            " [8 7]]\n",
            "[[47 33]\n",
            " [17 10]]\n"
          ]
        }
      ]
    },
    {
      "cell_type": "markdown",
      "source": [
        "Створіть матрицю розміром 5x5, заповніть її випадковими цілими числами в діапазоні від 1 до 100 та знайдіть суму елементів матриці."
      ],
      "metadata": {
        "id": "YwacjRtLw4JV"
      }
    },
    {
      "cell_type": "code",
      "source": [
        "a = np.random.randint(1,101, size=(5,5))\n",
        "print(a)\n",
        "c =np.sum(a)\n",
        "print(c)"
      ],
      "metadata": {
        "colab": {
          "base_uri": "https://localhost:8080/"
        },
        "id": "qDTZSz8bw42o",
        "outputId": "9597738b-d327-45b9-e997-866c6ecc1d39"
      },
      "execution_count": 34,
      "outputs": [
        {
          "output_type": "stream",
          "name": "stdout",
          "text": [
            "[[54 89 92 52 30]\n",
            " [87 13 39 78 57]\n",
            " [23 75 98 20 14]\n",
            " [81 17  3 45 89]\n",
            " [75 89  9 94 16]]\n",
            "1339\n"
          ]
        }
      ]
    },
    {
      "cell_type": "markdown",
      "source": [
        "Створіть дві матриці розміром 4x4, заповніть їх випадковими цілими числами в діапазоні від 1 до 10 та знайдіть їхню різницю."
      ],
      "metadata": {
        "id": "lMiHSTZMx-Lj"
      }
    },
    {
      "cell_type": "code",
      "source": [
        "a = np.random.randint(1,11, size=(4,4))\n",
        "b = np.random.randint(1,11, size=(4,4))\n",
        "print(a)\n",
        "print(b)\n",
        "c=a-b\n",
        "print(c)"
      ],
      "metadata": {
        "colab": {
          "base_uri": "https://localhost:8080/"
        },
        "id": "NmzMwtaTx-_0",
        "outputId": "f84ed933-e8a4-42a6-a5cf-d784c85660a6"
      },
      "execution_count": 35,
      "outputs": [
        {
          "output_type": "stream",
          "name": "stdout",
          "text": [
            "[[10  7  6  3]\n",
            " [ 6  9  9 10]\n",
            " [ 5 10  8  8]\n",
            " [10 10  1  6]]\n",
            "[[2 9 6 5]\n",
            " [8 6 2 9]\n",
            " [8 4 7 5]\n",
            " [8 3 6 9]]\n",
            "[[ 8 -2  0 -2]\n",
            " [-2  3  7  1]\n",
            " [-3  6  1  3]\n",
            " [ 2  7 -5 -3]]\n"
          ]
        }
      ]
    },
    {
      "cell_type": "markdown",
      "source": [
        "Створіть матрицю розміром 3x3, заповніть її випадковими дійсними числами в діапазоні від 0 до 1 та знайдіть вектор-стовпчик, що містить суму елементів кожного рядка матриці."
      ],
      "metadata": {
        "id": "wZ4UiEkWyR_2"
      }
    },
    {
      "cell_type": "code",
      "source": [
        "a = np.random.rand(3,3)\n",
        "print(a)\n",
        "b = np.sum(a, axis=1, keepdims=True)"
      ],
      "metadata": {
        "colab": {
          "base_uri": "https://localhost:8080/"
        },
        "id": "-Iwy34tnyTN8",
        "outputId": "5b43ae89-f7fd-4755-baf8-6894866c656f"
      },
      "execution_count": 36,
      "outputs": [
        {
          "output_type": "stream",
          "name": "stdout",
          "text": [
            "[[0.76435938 0.23904654 0.53365858]\n",
            " [0.77165935 0.83512874 0.17250824]\n",
            " [0.30618261 0.72168775 0.87898956]]\n"
          ]
        }
      ]
    },
    {
      "cell_type": "markdown",
      "source": [
        "Створіть матрицю розміром 3x4 з довільними цілими числами і створінь матрицю з квадратами цих чисел.\n"
      ],
      "metadata": {
        "id": "htOH7X2vzrz5"
      }
    },
    {
      "cell_type": "code",
      "source": [
        "a = np.random.randint(1, 11, size=(3, 4))\n",
        "print(a)\n",
        "b = a ** 2\n",
        "print(b)\n"
      ],
      "metadata": {
        "colab": {
          "base_uri": "https://localhost:8080/"
        },
        "id": "o4OIi-JeztS9",
        "outputId": "5ebb4ecb-f30b-4f7c-da90-951c0a085ee0"
      },
      "execution_count": 37,
      "outputs": [
        {
          "output_type": "stream",
          "name": "stdout",
          "text": [
            "[[ 1  4  6  6]\n",
            " [ 4  6 10 10]\n",
            " [ 5  9  9  7]]\n",
            "[[  1  16  36  36]\n",
            " [ 16  36 100 100]\n",
            " [ 25  81  81  49]]\n"
          ]
        }
      ]
    },
    {
      "cell_type": "markdown",
      "source": [
        "Створіть вектор розміром 4, заповніть його випадковими цілими числами в діапазоні від 1 до 50 та знайдіть вектор з квадратними коренями цих чисел.\n"
      ],
      "metadata": {
        "id": "2DzHpzqQ0ChR"
      }
    },
    {
      "cell_type": "code",
      "source": [
        "a = np.random.randint(1,51, size=4)\n",
        "b = np.sqrt(a)\n",
        "print(a)\n",
        "print(b)"
      ],
      "metadata": {
        "colab": {
          "base_uri": "https://localhost:8080/"
        },
        "id": "Q5qNEGVl0EBN",
        "outputId": "74f7b270-4377-47b9-cc65-dc19298c2765"
      },
      "execution_count": 40,
      "outputs": [
        {
          "output_type": "stream",
          "name": "stdout",
          "text": [
            "[25 39  1 40]\n",
            "[5.         6.244998   1.         6.32455532]\n"
          ]
        }
      ]
    }
  ]
}