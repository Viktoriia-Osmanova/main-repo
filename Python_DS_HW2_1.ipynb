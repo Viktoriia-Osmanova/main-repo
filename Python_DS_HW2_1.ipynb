{
  "nbformat": 4,
  "nbformat_minor": 0,
  "metadata": {
    "colab": {
      "provenance": [],
      "authorship_tag": "ABX9TyNyrl7l9IXLEYW7Bh8KYaG4",
      "include_colab_link": true
    },
    "kernelspec": {
      "name": "python3",
      "display_name": "Python 3"
    },
    "language_info": {
      "name": "python"
    }
  },
  "cells": [
    {
      "cell_type": "markdown",
      "metadata": {
        "id": "view-in-github",
        "colab_type": "text"
      },
      "source": [
        "<a href=\"https://colab.research.google.com/github/Viktoriia-Osmanova/main-repo/blob/main/Python_DS_HW2_1.ipynb\" target=\"_parent\"><img src=\"https://colab.research.google.com/assets/colab-badge.svg\" alt=\"Open In Colab\"/></a>"
      ]
    },
    {
      "cell_type": "code",
      "source": [
        "import pandas as pd\n",
        "import requests\n",
        "from bs4 import BeautifulSoup\n",
        "\n",
        "# Вказуємо посилання на сторінку з таблицею\n",
        "url = 'https://uk.wikipedia.org/wiki/%D0%9D%D0%B0%D1%81%D0%B5%D0%BB%D0%B5%D0%BD%D0%BD%D1%8F_%D0%A3%D0%BA%D1%80%D0%B0%D1%97%D0%BD%D0%B8#%D0%9D%D0%B0%D1%80%D0%BE%D0%B4%D0%B6%D1%83%D0%B2%D0%B0%D0%BD%D1%96%D1%81%D1%82%D1%8C'\n",
        "\n",
        "df = pd.read_html(source, match='Коефіцієнт народжуваності в регіонах України', thousands=\".\", decimal=\",\")[0]\n",
        "\n",
        "# Виводимо вміст обраної таблиці\n",
        "print(df)\n"
      ],
      "metadata": {
        "id": "9BgNbpG48XDC",
        "colab": {
          "base_uri": "https://localhost:8080/"
        },
        "outputId": "971e805e-9484-4082-d966-b5d9dcb746f3"
      },
      "execution_count": 3,
      "outputs": [
        {
          "output_type": "stream",
          "name": "stdout",
          "text": [
            "               Регіон  1950  1960  1970  1990  2000  2012  2014  2019\n",
            "0                Крим  23.0  20.6  16.0  13.0   7.3  12.6     —     —\n",
            "1           Вінницька  22.4  19.2  14.2  12.4   8.4  11.2  10.9   7.6\n",
            "2           Волинська  24.7  25.0  17.9  15.3  11.2  14.8  14.1  10.1\n",
            "3    Дніпропетровська  20.4  20.4  15.1  12.3   7.1  11.2  11.1   7.1\n",
            "4            Донецька  27.1  21.4  14.0  10.9   6.1   9.8   8.2     —\n",
            "5         Житомирська  26.1  22.3  15.9  12.9   8.9  12.2  12.0   7.9\n",
            "6        Закарпатська  31.4  27.3  20.7  16.8  11.5  15.1  14.6  10.4\n",
            "7          Запорізька  21.9  19.7  15.0  12.4   7.1  10.6  10.6   6.8\n",
            "8   Івано-Франківська  24.3  24.8  18.2  15.5  10.3  12.4  12.2   8.8\n",
            "9            Київська  20.4  18.9  15.6  12.3   7.3  12.2  12.1   8.0\n",
            "10     Кіровоградська  21.6  17.1  14.5  12.6   7.9  11.0  10.8   6.8\n",
            "11          Луганська  26.2  23.5  14.4  11.6   6.2   9.6   5.1     —\n",
            "12          Львівська  23.4  24.0  17.1  14.0   9.1  11.9  11.9   8.7\n",
            "13       Миколаївська  21.1  19.4  15.5  13.7   8.0  11.5  11.2   7.1\n",
            "14            Одеська  24.1  19.2  14.8  12.6   8.0  12.7  12.3   8.8\n",
            "15         Полтавська  18.6  16.3  13.1  11.8   7.0   9.9  10.0   6.5\n",
            "16         Рівненська  26.9  26.7  19.3  15.8  11.8  15.9  14.8  10.7\n",
            "17            Сумська  21.6  18.4  13.2  11.5   7.0   9.7   9.2   6.0\n",
            "18      Тернопільська  21.3  21.6  15.7  14.2   9.2  11.3  10.9   7.6\n",
            "19         Харківська  19.7  17.3  14.0  11.4   6.8   9.9  10.1   6.8\n",
            "20         Херсонська  20.8  21.4  16.6  14.3   8.5  11.7  11.5   8.1\n",
            "21        Хмельницька  23.4  19.8  14.8  12.9   8.5  11.3  11.2   7.9\n",
            "22          Черкаська  20.5  17.9  14.4  12.3   7.5  10.0   9.8   6.4\n",
            "23        Чернівецька  24.7  21.8  17.0  14.8  10.1  12.8  12.9   9.2\n",
            "24       Чернігівська  22.0  18.3  12.7  10.8   6.9   9.4   9.0   6.1\n",
            "25               Київ   NaN  17.4  15.9  12.0   7.3  12.0  12.1  11.0\n",
            "26        Севастополь   NaN   NaN   NaN  12.5   7.0  12.0     —     —\n",
            "27            Україна  22.8  20.5  15.2  12.6   7.8  11.4  11.1   8.1\n"
          ]
        }
      ]
    },
    {
      "cell_type": "markdown",
      "source": [
        "Вивести перші рядки таблиці за допомогою методу head:"
      ],
      "metadata": {
        "id": "lzMe9kNG-mjg"
      }
    },
    {
      "cell_type": "code",
      "source": [
        "print(df.head())\n"
      ],
      "metadata": {
        "id": "8r7M3Ije-n2S",
        "colab": {
          "base_uri": "https://localhost:8080/"
        },
        "outputId": "28c9afc2-87c1-424b-eba4-802d475d6369"
      },
      "execution_count": 5,
      "outputs": [
        {
          "output_type": "stream",
          "name": "stdout",
          "text": [
            "             Регіон  1950  1960  1970  1990  2000  2012  2014  2019\n",
            "0              Крим  23.0  20.6  16.0  13.0   7.3  12.6     —     —\n",
            "1         Вінницька  22.4  19.2  14.2  12.4   8.4  11.2  10.9   7.6\n",
            "2         Волинська  24.7  25.0  17.9  15.3  11.2  14.8  14.1  10.1\n",
            "3  Дніпропетровська  20.4  20.4  15.1  12.3   7.1  11.2  11.1   7.1\n",
            "4          Донецька  27.1  21.4  14.0  10.9   6.1   9.8   8.2     —\n"
          ]
        }
      ]
    },
    {
      "cell_type": "markdown",
      "source": [
        "Визначити кількість рядків та стовпців у датафреймі (атрибут shape):"
      ],
      "metadata": {
        "id": "GDrQw3uO-zyn"
      }
    },
    {
      "cell_type": "code",
      "source": [
        "print(\"Кількість рядків та стовпців:\", df.shape)\n"
      ],
      "metadata": {
        "colab": {
          "base_uri": "https://localhost:8080/"
        },
        "id": "5k2LvmHD-0sK",
        "outputId": "5dc8816e-ee63-4524-f715-26b51f598db3"
      },
      "execution_count": 6,
      "outputs": [
        {
          "output_type": "stream",
          "name": "stdout",
          "text": [
            "Кількість рядків та стовпців: (28, 9)\n"
          ]
        }
      ]
    },
    {
      "cell_type": "markdown",
      "source": [
        "Замініть у таблиці значення \"—\" на значення NaN"
      ],
      "metadata": {
        "id": "HWpaURZl-9Os"
      }
    },
    {
      "cell_type": "code",
      "source": [
        "df.replace(\"—\", float(\"NaN\"), inplace=True)\n",
        "print(df.head())\n"
      ],
      "metadata": {
        "id": "0WnA0HFV-9z5",
        "colab": {
          "base_uri": "https://localhost:8080/"
        },
        "outputId": "5ae3c1f5-6125-438a-a48d-c75f89d730c0"
      },
      "execution_count": 7,
      "outputs": [
        {
          "output_type": "stream",
          "name": "stdout",
          "text": [
            "             Регіон  1950  1960  1970  1990  2000  2012  2014  2019\n",
            "0              Крим  23.0  20.6  16.0  13.0   7.3  12.6   NaN   NaN\n",
            "1         Вінницька  22.4  19.2  14.2  12.4   8.4  11.2  10.9   7.6\n",
            "2         Волинська  24.7  25.0  17.9  15.3  11.2  14.8  14.1  10.1\n",
            "3  Дніпропетровська  20.4  20.4  15.1  12.3   7.1  11.2  11.1   7.1\n",
            "4          Донецька  27.1  21.4  14.0  10.9   6.1   9.8   8.2   NaN\n"
          ]
        }
      ]
    },
    {
      "cell_type": "markdown",
      "source": [
        "Визначити типи всіх стовпців за допомогою dataframe.dtypes:"
      ],
      "metadata": {
        "id": "FQuhV0eL_L87"
      }
    },
    {
      "cell_type": "code",
      "source": [
        "print(\"Типи стовпців:\")\n",
        "print(df.dtypes)\n"
      ],
      "metadata": {
        "id": "ZU2nF7Er_Mnf",
        "colab": {
          "base_uri": "https://localhost:8080/"
        },
        "outputId": "441895e1-13ae-4ef0-bb39-584b98d035e1"
      },
      "execution_count": 8,
      "outputs": [
        {
          "output_type": "stream",
          "name": "stdout",
          "text": [
            "Типи стовпців:\n",
            "Регіон     object\n",
            "1950      float64\n",
            "1960      float64\n",
            "1970      float64\n",
            "1990      float64\n",
            "2000      float64\n",
            "2012      float64\n",
            "2014       object\n",
            "2019       object\n",
            "dtype: object\n"
          ]
        }
      ]
    },
    {
      "cell_type": "markdown",
      "source": [
        "Замінити типи нечислових колонок на числові:"
      ],
      "metadata": {
        "id": "D3xVpspx_VBm"
      }
    },
    {
      "cell_type": "code",
      "source": [
        "df = df.apply(pd.to_numeric, errors='ignore')\n"
      ],
      "metadata": {
        "id": "mzGHC1GP_Vqj"
      },
      "execution_count": 9,
      "outputs": []
    },
    {
      "cell_type": "markdown",
      "source": [
        "Порахувати, яка частка пропусків міститься в кожній колонці:"
      ],
      "metadata": {
        "id": "sD097Eqn_o4u"
      }
    },
    {
      "cell_type": "code",
      "source": [
        "missing_values = df.isnull().sum() / len(df)\n",
        "print(\"Частка пропусків в кожній колонці:\")\n",
        "print(missing_values)\n"
      ],
      "metadata": {
        "id": "TVWgJ6gg_pfk",
        "colab": {
          "base_uri": "https://localhost:8080/"
        },
        "outputId": "31a7c849-ce70-4f2a-f1ca-4830953a267b"
      },
      "execution_count": 10,
      "outputs": [
        {
          "output_type": "stream",
          "name": "stdout",
          "text": [
            "Частка пропусків в кожній колонці:\n",
            "Регіон    0.000000\n",
            "1950      0.071429\n",
            "1960      0.035714\n",
            "1970      0.035714\n",
            "1990      0.000000\n",
            "2000      0.000000\n",
            "2012      0.000000\n",
            "2014      0.071429\n",
            "2019      0.142857\n",
            "dtype: float64\n"
          ]
        }
      ]
    },
    {
      "cell_type": "markdown",
      "source": [
        "Видалити з таблиці дані по всій країні, останній рядок таблиці:"
      ],
      "metadata": {
        "id": "3sSk4JFl_9RT"
      }
    },
    {
      "cell_type": "code",
      "source": [
        "df.drop(df.tail(1).index, inplace=True)\n",
        "print(df)\n"
      ],
      "metadata": {
        "id": "e9ruv2Du__IC",
        "colab": {
          "base_uri": "https://localhost:8080/"
        },
        "outputId": "cdbdb321-af9e-4428-c998-3b1224d60d46"
      },
      "execution_count": 11,
      "outputs": [
        {
          "output_type": "stream",
          "name": "stdout",
          "text": [
            "               Регіон  1950  1960  1970  1990  2000  2012  2014  2019\n",
            "0                Крим  23.0  20.6  16.0  13.0   7.3  12.6   NaN   NaN\n",
            "1           Вінницька  22.4  19.2  14.2  12.4   8.4  11.2  10.9   7.6\n",
            "2           Волинська  24.7  25.0  17.9  15.3  11.2  14.8  14.1  10.1\n",
            "3    Дніпропетровська  20.4  20.4  15.1  12.3   7.1  11.2  11.1   7.1\n",
            "4            Донецька  27.1  21.4  14.0  10.9   6.1   9.8   8.2   NaN\n",
            "5         Житомирська  26.1  22.3  15.9  12.9   8.9  12.2  12.0   7.9\n",
            "6        Закарпатська  31.4  27.3  20.7  16.8  11.5  15.1  14.6  10.4\n",
            "7          Запорізька  21.9  19.7  15.0  12.4   7.1  10.6  10.6   6.8\n",
            "8   Івано-Франківська  24.3  24.8  18.2  15.5  10.3  12.4  12.2   8.8\n",
            "9            Київська  20.4  18.9  15.6  12.3   7.3  12.2  12.1   8.0\n",
            "10     Кіровоградська  21.6  17.1  14.5  12.6   7.9  11.0  10.8   6.8\n",
            "11          Луганська  26.2  23.5  14.4  11.6   6.2   9.6   5.1   NaN\n",
            "12          Львівська  23.4  24.0  17.1  14.0   9.1  11.9  11.9   8.7\n",
            "13       Миколаївська  21.1  19.4  15.5  13.7   8.0  11.5  11.2   7.1\n",
            "14            Одеська  24.1  19.2  14.8  12.6   8.0  12.7  12.3   8.8\n",
            "15         Полтавська  18.6  16.3  13.1  11.8   7.0   9.9  10.0   6.5\n",
            "16         Рівненська  26.9  26.7  19.3  15.8  11.8  15.9  14.8  10.7\n",
            "17            Сумська  21.6  18.4  13.2  11.5   7.0   9.7   9.2   6.0\n",
            "18      Тернопільська  21.3  21.6  15.7  14.2   9.2  11.3  10.9   7.6\n",
            "19         Харківська  19.7  17.3  14.0  11.4   6.8   9.9  10.1   6.8\n",
            "20         Херсонська  20.8  21.4  16.6  14.3   8.5  11.7  11.5   8.1\n",
            "21        Хмельницька  23.4  19.8  14.8  12.9   8.5  11.3  11.2   7.9\n",
            "22          Черкаська  20.5  17.9  14.4  12.3   7.5  10.0   9.8   6.4\n",
            "23        Чернівецька  24.7  21.8  17.0  14.8  10.1  12.8  12.9   9.2\n",
            "24       Чернігівська  22.0  18.3  12.7  10.8   6.9   9.4   9.0   6.1\n",
            "25               Київ   NaN  17.4  15.9  12.0   7.3  12.0  12.1  11.0\n",
            "26        Севастополь   NaN   NaN   NaN  12.5   7.0  12.0   NaN   NaN\n"
          ]
        }
      ]
    },
    {
      "cell_type": "markdown",
      "source": [
        "Замінити відсутні дані в стовпцях середніми значеннями цих стовпців:"
      ],
      "metadata": {
        "id": "fkhgX9glAfdd"
      }
    },
    {
      "cell_type": "code",
      "source": [
        "import pandas as pd\n",
        "\n",
        "# Отримуємо список числових стовпців\n",
        "numeric_columns = df.select_dtypes(include=['float64', 'int64']).columns\n",
        "\n",
        "# Замінюємо відсутні дані в числових стовпцях середніми значеннями\n",
        "df[numeric_columns] = df[numeric_columns].fillna(df[numeric_columns].mean())\n",
        "print(df)\n"
      ],
      "metadata": {
        "id": "fz0Q_OVcAgUz",
        "colab": {
          "base_uri": "https://localhost:8080/"
        },
        "outputId": "6583b314-122a-4303-942c-ed8d74421bf1"
      },
      "execution_count": 12,
      "outputs": [
        {
          "output_type": "stream",
          "name": "stdout",
          "text": [
            "               Регіон    1950       1960  1970  1990  2000  2012    2014  \\\n",
            "0                Крим  23.000  20.600000  16.0  13.0   7.3  12.6  11.144   \n",
            "1           Вінницька  22.400  19.200000  14.2  12.4   8.4  11.2  10.900   \n",
            "2           Волинська  24.700  25.000000  17.9  15.3  11.2  14.8  14.100   \n",
            "3    Дніпропетровська  20.400  20.400000  15.1  12.3   7.1  11.2  11.100   \n",
            "4            Донецька  27.100  21.400000  14.0  10.9   6.1   9.8   8.200   \n",
            "5         Житомирська  26.100  22.300000  15.9  12.9   8.9  12.2  12.000   \n",
            "6        Закарпатська  31.400  27.300000  20.7  16.8  11.5  15.1  14.600   \n",
            "7          Запорізька  21.900  19.700000  15.0  12.4   7.1  10.6  10.600   \n",
            "8   Івано-Франківська  24.300  24.800000  18.2  15.5  10.3  12.4  12.200   \n",
            "9            Київська  20.400  18.900000  15.6  12.3   7.3  12.2  12.100   \n",
            "10     Кіровоградська  21.600  17.100000  14.5  12.6   7.9  11.0  10.800   \n",
            "11          Луганська  26.200  23.500000  14.4  11.6   6.2   9.6   5.100   \n",
            "12          Львівська  23.400  24.000000  17.1  14.0   9.1  11.9  11.900   \n",
            "13       Миколаївська  21.100  19.400000  15.5  13.7   8.0  11.5  11.200   \n",
            "14            Одеська  24.100  19.200000  14.8  12.6   8.0  12.7  12.300   \n",
            "15         Полтавська  18.600  16.300000  13.1  11.8   7.0   9.9  10.000   \n",
            "16         Рівненська  26.900  26.700000  19.3  15.8  11.8  15.9  14.800   \n",
            "17            Сумська  21.600  18.400000  13.2  11.5   7.0   9.7   9.200   \n",
            "18      Тернопільська  21.300  21.600000  15.7  14.2   9.2  11.3  10.900   \n",
            "19         Харківська  19.700  17.300000  14.0  11.4   6.8   9.9  10.100   \n",
            "20         Херсонська  20.800  21.400000  16.6  14.3   8.5  11.7  11.500   \n",
            "21        Хмельницька  23.400  19.800000  14.8  12.9   8.5  11.3  11.200   \n",
            "22          Черкаська  20.500  17.900000  14.4  12.3   7.5  10.0   9.800   \n",
            "23        Чернівецька  24.700  21.800000  17.0  14.8  10.1  12.8  12.900   \n",
            "24       Чернігівська  22.000  18.300000  12.7  10.8   6.9   9.4   9.000   \n",
            "25               Київ  23.104  17.400000  15.9  12.0   7.3  12.0  12.100   \n",
            "26        Севастополь  23.104  20.757692  15.6  12.5   7.0  12.0  11.144   \n",
            "\n",
            "         2019  \n",
            "0    8.017391  \n",
            "1    7.600000  \n",
            "2   10.100000  \n",
            "3    7.100000  \n",
            "4    8.017391  \n",
            "5    7.900000  \n",
            "6   10.400000  \n",
            "7    6.800000  \n",
            "8    8.800000  \n",
            "9    8.000000  \n",
            "10   6.800000  \n",
            "11   8.017391  \n",
            "12   8.700000  \n",
            "13   7.100000  \n",
            "14   8.800000  \n",
            "15   6.500000  \n",
            "16  10.700000  \n",
            "17   6.000000  \n",
            "18   7.600000  \n",
            "19   6.800000  \n",
            "20   8.100000  \n",
            "21   7.900000  \n",
            "22   6.400000  \n",
            "23   9.200000  \n",
            "24   6.100000  \n",
            "25  11.000000  \n",
            "26   8.017391  \n"
          ]
        }
      ]
    },
    {
      "cell_type": "markdown",
      "source": [
        "Отримати список регіонів, де рівень народжуваності у 2019 році був вищим за середній по Україні:"
      ],
      "metadata": {
        "id": "wj_o79uwDje7"
      }
    },
    {
      "cell_type": "code",
      "source": [
        "import numpy as np\n",
        "\n",
        "# Замінюємо неправильні значення на NaN\n",
        "df['2019'] = pd.to_numeric(df['2019'], errors='coerce')\n",
        "\n",
        "# Знаходимо регіони з вищим рівнем народжуваності у 2019 році за середнім по Україні\n",
        "higher_birth_rate_regions = df[df['2019'] > df['2019'].mean()].index.tolist()\n",
        "\n",
        "print(\"Список регіонів з вищим рівнем народжуваності у 2019 році за середнім по Україні:\")\n",
        "print(higher_birth_rate_regions)\n"
      ],
      "metadata": {
        "colab": {
          "base_uri": "https://localhost:8080/"
        },
        "id": "-1UEzVnmDkSY",
        "outputId": "6c89c2b9-4111-4ec0-c5a5-d776bf995c36"
      },
      "execution_count": 13,
      "outputs": [
        {
          "output_type": "stream",
          "name": "stdout",
          "text": [
            "Список регіонів з вищим рівнем народжуваності у 2019 році за середнім по Україні:\n",
            "[2, 6, 8, 12, 14, 16, 20, 23, 25]\n"
          ]
        }
      ]
    },
    {
      "cell_type": "markdown",
      "source": [
        "В якому регіоні була найвища народжуваність у 2014 році:"
      ],
      "metadata": {
        "id": "sidwEx-qEL2G"
      }
    },
    {
      "cell_type": "code",
      "source": [
        "# Замінюємо неправильні значення на NaN\n",
        "df['2014'] = pd.to_numeric(df['2014'], errors='coerce')\n",
        "\n",
        "# Знаходимо індекс максимального значення у стовпці '2014'\n",
        "highest_birth_rate_region_2014 = df['2014'].idxmax()\n",
        "\n",
        "print(\"Найвища народжуваність у 2014 році була в регіоні:\", highest_birth_rate_region_2014)\n"
      ],
      "metadata": {
        "colab": {
          "base_uri": "https://localhost:8080/"
        },
        "id": "Wa_5cCcoEMpV",
        "outputId": "03dac8a5-4263-4c82-b882-6b977d628a07"
      },
      "execution_count": 14,
      "outputs": [
        {
          "output_type": "stream",
          "name": "stdout",
          "text": [
            "Найвища народжуваність у 2014 році була в регіоні: 16\n"
          ]
        }
      ]
    },
    {
      "cell_type": "markdown",
      "source": [
        "Побудувати стовпчикову діаграму народжуваності по регіонах у 2019 році:"
      ],
      "metadata": {
        "id": "0UNnWQ4pEwH6"
      }
    },
    {
      "cell_type": "code",
      "source": [
        "import matplotlib.pyplot as plt\n",
        "\n",
        "# Вибираємо дані для побудови діаграми\n",
        "data = df['2019']\n",
        "\n",
        "# Вибираємо назви регіонів для відображення на діаграмі\n",
        "regions = df['Регіон']\n",
        "\n",
        "# Побудова стовпчикової діаграми\n",
        "plt.figure(figsize=(10, 6))\n",
        "plt.bar(regions, data, color='skyblue')\n",
        "plt.xlabel('Регіони')\n",
        "plt.ylabel('Кількість народжень')\n",
        "plt.title('Народжуваність по регіонах у 2019 році')\n",
        "plt.xticks(rotation=90)  # Повертаємо підписи регіонів на 90 градусів для зручності\n",
        "plt.tight_layout()  # Автоматично налаштовує розміри діаграми, щоб вона вмістилася повністю\n",
        "plt.show()\n"
      ],
      "metadata": {
        "colab": {
          "base_uri": "https://localhost:8080/",
          "height": 607
        },
        "id": "BpzusKPDEw-S",
        "outputId": "cd9eea3a-3c4c-43c0-9cae-277f1278f0c3"
      },
      "execution_count": 15,
      "outputs": [
        {
          "output_type": "display_data",
          "data": {
            "text/plain": [
              "<Figure size 1000x600 with 1 Axes>"
            ],
            "image/png": "[encoded data removed]"
          },
          "metadata": {}
        }
      ]
    }
  ]
}